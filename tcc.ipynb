{
 "cells": [
  {
   "cell_type": "markdown",
   "metadata": {},
   "source": [
    "# Imports"
   ]
  },
  {
   "cell_type": "code",
   "execution_count": 1,
   "metadata": {},
   "outputs": [],
   "source": [
    "import os\n",
    "import tensorflow as tf\n",
    "from sklearn.model_selection import train_test_split\n",
    "from keras.models import Sequential\n",
    "from keras.layers import Conv2D, MaxPooling2D, Flatten, Dense\n",
    "from tensorflow.keras import layers, models, optimizers\n",
    "import numpy as np\n",
    "from tensorflow.keras.preprocessing.image import load_img, img_to_array\n",
    "from sklearn.preprocessing import LabelEncoder, OneHotEncoder\n",
    "from tensorflow.keras.preprocessing import image\n",
    "from tensorflow.keras.models import load_model\n",
    "from sklearn.model_selection import train_test_split, KFold\n",
    "import keras_tuner as kt\n",
    "from sklearn.metrics import accuracy_score, confusion_matrix, classification_report\n",
    "import matplotlib.pyplot as plt\n",
    "import seaborn as sns"
   ]
  },
  {
   "cell_type": "markdown",
   "metadata": {},
   "source": [
    "# LeNet-5"
   ]
  },
  {
   "cell_type": "markdown",
   "metadata": {},
   "source": [
    "## Criação do modelo"
   ]
  },
  {
   "cell_type": "code",
   "execution_count": 2,
   "metadata": {},
   "outputs": [
    {
     "name": "stdout",
     "output_type": "stream",
     "text": [
      "Número de imagens de treinamento: 4569\n",
      "Número de imagens de validação: 1143\n",
      "Número de imagens de teste: 1311\n"
     ]
    }
   ],
   "source": [
    "# Diretório que contém as pastas Training e Testing\n",
    "data_dir = r'C:\\Users\\Willi\\OneDrive\\Área de Trabalho\\tcc\\archive (2)'\n",
    "\n",
    "# Listando os diretórios de treinamento e teste\n",
    "train_dir = os.path.join(data_dir, 'Training')\n",
    "test_dir = os.path.join(data_dir, 'Testing')\n",
    "\n",
    "# Carregando as imagens e retornando os caminhos dos arquivos e rótulos\n",
    "def load_images_from_directory(directory):\n",
    "    images = []\n",
    "    labels = []\n",
    "    for label in os.listdir(directory):\n",
    "        label_dir = os.path.join(directory, label)\n",
    "        for img_file in os.listdir(label_dir):\n",
    "            img_path = os.path.join(label_dir, img_file)\n",
    "            images.append(img_path)\n",
    "            labels.append(label)\n",
    "    return images, labels\n",
    "\n",
    "# Carregando imagens e rótulos de treinamento\n",
    "train_images, train_labels = load_images_from_directory(train_dir)\n",
    "\n",
    "# Carregando imagens e rótulos de teste\n",
    "test_images, test_labels = load_images_from_directory(test_dir)\n",
    "\n",
    "# Dividindo os dados de treinamento em treinamento e validação\n",
    "train_images, val_images, train_labels, val_labels = train_test_split(train_images, train_labels, test_size=0.2, random_state=42)\n",
    "\n",
    "# Codificando os rótulos com LabelEncoder\n",
    "label_encoder = LabelEncoder()\n",
    "train_labels_encoded = label_encoder.fit_transform(train_labels)\n",
    "val_labels_encoded = label_encoder.transform(val_labels)\n",
    "\n",
    "# Convertendo rótulos para tipo inteiro\n",
    "train_labels = train_labels_encoded.astype(int)\n",
    "val_labels = val_labels_encoded.astype(int)\n",
    "\n",
    "# Exibindo as informações dos dados\n",
    "print(\"Número de imagens de treinamento:\", len(train_images))\n",
    "print(\"Número de imagens de validação:\", len(val_images))\n",
    "print(\"Número de imagens de teste:\", len(test_images))"
   ]
  },
  {
   "cell_type": "code",
   "execution_count": 3,
   "metadata": {},
   "outputs": [
    {
     "name": "stdout",
     "output_type": "stream",
     "text": [
      "Formato das imagens de validação: (1143, 32, 32, 3)\n",
      "Tipo das imagens de validação: float32\n"
     ]
    }
   ],
   "source": [
    "# Carregar e pré-processar imagens de validação\n",
    "def load_images_from_paths(image_paths):\n",
    "    images = []\n",
    "    for img_path in image_paths:\n",
    "        img = load_img(img_path, target_size=(32, 32))\n",
    "        img_array = img_to_array(img)\n",
    "        img_array = img_array / 255.0\n",
    "        images.append(img_array)\n",
    "    return np.array(images)\n",
    "\n",
    "val_images_processed = load_images_from_paths(val_images)\n",
    "\n",
    "# Verificar o formato das imagens de validação processadas\n",
    "print(\"Formato das imagens de validação:\", val_images_processed.shape)\n",
    "print(\"Tipo das imagens de validação:\", val_images_processed.dtype)"
   ]
  },
  {
   "cell_type": "code",
   "execution_count": 10,
   "metadata": {},
   "outputs": [
    {
     "name": "stdout",
     "output_type": "stream",
     "text": [
      "Fold 1\n",
      "Epoch 1/10\n"
     ]
    },
    {
     "name": "stderr",
     "output_type": "stream",
     "text": [
      "c:\\Users\\Willi\\AppData\\Local\\Programs\\Python\\Python312\\Lib\\site-packages\\keras\\src\\layers\\convolutional\\base_conv.py:99: UserWarning: Do not pass an `input_shape`/`input_dim` argument to a layer. When using Sequential models, prefer using an `Input(shape)` object as the first layer in the model instead.\n",
      "  super().__init__(\n"
     ]
    },
    {
     "name": "stdout",
     "output_type": "stream",
     "text": [
      "\u001b[1m115/115\u001b[0m \u001b[32m━━━━━━━━━━━━━━━━━━━━\u001b[0m\u001b[37m\u001b[0m \u001b[1m3s\u001b[0m 10ms/step - accuracy: 0.4445 - loss: 1.1550 - val_accuracy: 0.7210 - val_loss: 0.7087\n",
      "Epoch 2/10\n",
      "\u001b[1m115/115\u001b[0m \u001b[32m━━━━━━━━━━━━━━━━━━━━\u001b[0m\u001b[37m\u001b[0m \u001b[1m1s\u001b[0m 8ms/step - accuracy: 0.7421 - loss: 0.6653 - val_accuracy: 0.7877 - val_loss: 0.5695\n",
      "Epoch 3/10\n",
      "\u001b[1m115/115\u001b[0m \u001b[32m━━━━━━━━━━━━━━━━━━━━\u001b[0m\u001b[37m\u001b[0m \u001b[1m1s\u001b[0m 9ms/step - accuracy: 0.7915 - loss: 0.5268 - val_accuracy: 0.8042 - val_loss: 0.5230\n",
      "Epoch 4/10\n",
      "\u001b[1m115/115\u001b[0m \u001b[32m━━━━━━━━━━━━━━━━━━━━\u001b[0m\u001b[37m\u001b[0m \u001b[1m1s\u001b[0m 8ms/step - accuracy: 0.8130 - loss: 0.4766 - val_accuracy: 0.7823 - val_loss: 0.5383\n",
      "Epoch 5/10\n",
      "\u001b[1m115/115\u001b[0m \u001b[32m━━━━━━━━━━━━━━━━━━━━\u001b[0m\u001b[37m\u001b[0m \u001b[1m1s\u001b[0m 8ms/step - accuracy: 0.8470 - loss: 0.4054 - val_accuracy: 0.8414 - val_loss: 0.4317\n",
      "Epoch 6/10\n",
      "\u001b[1m115/115\u001b[0m \u001b[32m━━━━━━━━━━━━━━━━━━━━\u001b[0m\u001b[37m\u001b[0m \u001b[1m1s\u001b[0m 9ms/step - accuracy: 0.8587 - loss: 0.3624 - val_accuracy: 0.8381 - val_loss: 0.4325\n",
      "Epoch 7/10\n",
      "\u001b[1m115/115\u001b[0m \u001b[32m━━━━━━━━━━━━━━━━━━━━\u001b[0m\u001b[37m\u001b[0m \u001b[1m1s\u001b[0m 6ms/step - accuracy: 0.8827 - loss: 0.3159 - val_accuracy: 0.8468 - val_loss: 0.4150\n",
      "Epoch 8/10\n",
      "\u001b[1m115/115\u001b[0m \u001b[32m━━━━━━━━━━━━━━━━━━━━\u001b[0m\u001b[37m\u001b[0m \u001b[1m1s\u001b[0m 6ms/step - accuracy: 0.8820 - loss: 0.3076 - val_accuracy: 0.8545 - val_loss: 0.3794\n",
      "Epoch 9/10\n",
      "\u001b[1m115/115\u001b[0m \u001b[32m━━━━━━━━━━━━━━━━━━━━\u001b[0m\u001b[37m\u001b[0m \u001b[1m1s\u001b[0m 9ms/step - accuracy: 0.9018 - loss: 0.2713 - val_accuracy: 0.8337 - val_loss: 0.4499\n",
      "Epoch 10/10\n",
      "\u001b[1m115/115\u001b[0m \u001b[32m━━━━━━━━━━━━━━━━━━━━\u001b[0m\u001b[37m\u001b[0m \u001b[1m1s\u001b[0m 8ms/step - accuracy: 0.9173 - loss: 0.2353 - val_accuracy: 0.8589 - val_loss: 0.3908\n",
      "Fold 2\n",
      "Epoch 1/10\n"
     ]
    },
    {
     "name": "stderr",
     "output_type": "stream",
     "text": [
      "c:\\Users\\Willi\\AppData\\Local\\Programs\\Python\\Python312\\Lib\\site-packages\\keras\\src\\layers\\convolutional\\base_conv.py:99: UserWarning: Do not pass an `input_shape`/`input_dim` argument to a layer. When using Sequential models, prefer using an `Input(shape)` object as the first layer in the model instead.\n",
      "  super().__init__(\n"
     ]
    },
    {
     "name": "stdout",
     "output_type": "stream",
     "text": [
      "\u001b[1m115/115\u001b[0m \u001b[32m━━━━━━━━━━━━━━━━━━━━\u001b[0m\u001b[37m\u001b[0m \u001b[1m3s\u001b[0m 8ms/step - accuracy: 0.4143 - loss: 1.1771 - val_accuracy: 0.7352 - val_loss: 0.7043\n",
      "Epoch 2/10\n",
      "\u001b[1m115/115\u001b[0m \u001b[32m━━━━━━━━━━━━━━━━━━━━\u001b[0m\u001b[37m\u001b[0m \u001b[1m1s\u001b[0m 7ms/step - accuracy: 0.7324 - loss: 0.6897 - val_accuracy: 0.7998 - val_loss: 0.5447\n",
      "Epoch 3/10\n",
      "\u001b[1m115/115\u001b[0m \u001b[32m━━━━━━━━━━━━━━━━━━━━\u001b[0m\u001b[37m\u001b[0m \u001b[1m1s\u001b[0m 7ms/step - accuracy: 0.7665 - loss: 0.5757 - val_accuracy: 0.8282 - val_loss: 0.4628\n",
      "Epoch 4/10\n",
      "\u001b[1m115/115\u001b[0m \u001b[32m━━━━━━━━━━━━━━━━━━━━\u001b[0m\u001b[37m\u001b[0m \u001b[1m1s\u001b[0m 7ms/step - accuracy: 0.8223 - loss: 0.4799 - val_accuracy: 0.8107 - val_loss: 0.4985\n",
      "Epoch 5/10\n",
      "\u001b[1m115/115\u001b[0m \u001b[32m━━━━━━━━━━━━━━━━━━━━\u001b[0m\u001b[37m\u001b[0m \u001b[1m1s\u001b[0m 7ms/step - accuracy: 0.8337 - loss: 0.4370 - val_accuracy: 0.8534 - val_loss: 0.4006\n",
      "Epoch 6/10\n",
      "\u001b[1m115/115\u001b[0m \u001b[32m━━━━━━━━━━━━━━━━━━━━\u001b[0m\u001b[37m\u001b[0m \u001b[1m1s\u001b[0m 7ms/step - accuracy: 0.8539 - loss: 0.3854 - val_accuracy: 0.8556 - val_loss: 0.3819\n",
      "Epoch 7/10\n",
      "\u001b[1m115/115\u001b[0m \u001b[32m━━━━━━━━━━━━━━━━━━━━\u001b[0m\u001b[37m\u001b[0m \u001b[1m1s\u001b[0m 6ms/step - accuracy: 0.8742 - loss: 0.3341 - val_accuracy: 0.8600 - val_loss: 0.3714\n",
      "Epoch 8/10\n",
      "\u001b[1m115/115\u001b[0m \u001b[32m━━━━━━━━━━━━━━━━━━━━\u001b[0m\u001b[37m\u001b[0m \u001b[1m1s\u001b[0m 7ms/step - accuracy: 0.8719 - loss: 0.3360 - val_accuracy: 0.8151 - val_loss: 0.4888\n",
      "Epoch 9/10\n",
      "\u001b[1m115/115\u001b[0m \u001b[32m━━━━━━━━━━━━━━━━━━━━\u001b[0m\u001b[37m\u001b[0m \u001b[1m1s\u001b[0m 8ms/step - accuracy: 0.8986 - loss: 0.2769 - val_accuracy: 0.8676 - val_loss: 0.3390\n",
      "Epoch 10/10\n",
      "\u001b[1m115/115\u001b[0m \u001b[32m━━━━━━━━━━━━━━━━━━━━\u001b[0m\u001b[37m\u001b[0m \u001b[1m1s\u001b[0m 7ms/step - accuracy: 0.9136 - loss: 0.2326 - val_accuracy: 0.8687 - val_loss: 0.3407\n",
      "Fold 3\n",
      "Epoch 1/10\n"
     ]
    },
    {
     "name": "stderr",
     "output_type": "stream",
     "text": [
      "c:\\Users\\Willi\\AppData\\Local\\Programs\\Python\\Python312\\Lib\\site-packages\\keras\\src\\layers\\convolutional\\base_conv.py:99: UserWarning: Do not pass an `input_shape`/`input_dim` argument to a layer. When using Sequential models, prefer using an `Input(shape)` object as the first layer in the model instead.\n",
      "  super().__init__(\n"
     ]
    },
    {
     "name": "stdout",
     "output_type": "stream",
     "text": [
      "\u001b[1m115/115\u001b[0m \u001b[32m━━━━━━━━━━━━━━━━━━━━\u001b[0m\u001b[37m\u001b[0m \u001b[1m3s\u001b[0m 8ms/step - accuracy: 0.4271 - loss: 1.2004 - val_accuracy: 0.7396 - val_loss: 0.7203\n",
      "Epoch 2/10\n",
      "\u001b[1m115/115\u001b[0m \u001b[32m━━━━━━━━━━━━━━━━━━━━\u001b[0m\u001b[37m\u001b[0m \u001b[1m1s\u001b[0m 6ms/step - accuracy: 0.7518 - loss: 0.6552 - val_accuracy: 0.7910 - val_loss: 0.5931\n",
      "Epoch 3/10\n",
      "\u001b[1m115/115\u001b[0m \u001b[32m━━━━━━━━━━━━━━━━━━━━\u001b[0m\u001b[37m\u001b[0m \u001b[1m1s\u001b[0m 6ms/step - accuracy: 0.8089 - loss: 0.5059 - val_accuracy: 0.8031 - val_loss: 0.5067\n",
      "Epoch 4/10\n",
      "\u001b[1m115/115\u001b[0m \u001b[32m━━━━━━━━━━━━━━━━━━━━\u001b[0m\u001b[37m\u001b[0m \u001b[1m1s\u001b[0m 7ms/step - accuracy: 0.8294 - loss: 0.4418 - val_accuracy: 0.8249 - val_loss: 0.4548\n",
      "Epoch 5/10\n",
      "\u001b[1m115/115\u001b[0m \u001b[32m━━━━━━━━━━━━━━━━━━━━\u001b[0m\u001b[37m\u001b[0m \u001b[1m1s\u001b[0m 8ms/step - accuracy: 0.8596 - loss: 0.3828 - val_accuracy: 0.8326 - val_loss: 0.4338\n",
      "Epoch 6/10\n",
      "\u001b[1m115/115\u001b[0m \u001b[32m━━━━━━━━━━━━━━━━━━━━\u001b[0m\u001b[37m\u001b[0m \u001b[1m1s\u001b[0m 9ms/step - accuracy: 0.8773 - loss: 0.3302 - val_accuracy: 0.8534 - val_loss: 0.4088\n",
      "Epoch 7/10\n",
      "\u001b[1m115/115\u001b[0m \u001b[32m━━━━━━━━━━━━━━━━━━━━\u001b[0m\u001b[37m\u001b[0m \u001b[1m1s\u001b[0m 9ms/step - accuracy: 0.8757 - loss: 0.3297 - val_accuracy: 0.8468 - val_loss: 0.3912\n",
      "Epoch 8/10\n",
      "\u001b[1m115/115\u001b[0m \u001b[32m━━━━━━━━━━━━━━━━━━━━\u001b[0m\u001b[37m\u001b[0m \u001b[1m1s\u001b[0m 9ms/step - accuracy: 0.8979 - loss: 0.2666 - val_accuracy: 0.8807 - val_loss: 0.3324\n",
      "Epoch 9/10\n",
      "\u001b[1m115/115\u001b[0m \u001b[32m━━━━━━━━━━━━━━━━━━━━\u001b[0m\u001b[37m\u001b[0m \u001b[1m1s\u001b[0m 9ms/step - accuracy: 0.9062 - loss: 0.2386 - val_accuracy: 0.8818 - val_loss: 0.3214\n",
      "Epoch 10/10\n",
      "\u001b[1m115/115\u001b[0m \u001b[32m━━━━━━━━━━━━━━━━━━━━\u001b[0m\u001b[37m\u001b[0m \u001b[1m1s\u001b[0m 9ms/step - accuracy: 0.9313 - loss: 0.1930 - val_accuracy: 0.8720 - val_loss: 0.3672\n",
      "Fold 4\n",
      "Epoch 1/10\n"
     ]
    },
    {
     "name": "stderr",
     "output_type": "stream",
     "text": [
      "c:\\Users\\Willi\\AppData\\Local\\Programs\\Python\\Python312\\Lib\\site-packages\\keras\\src\\layers\\convolutional\\base_conv.py:99: UserWarning: Do not pass an `input_shape`/`input_dim` argument to a layer. When using Sequential models, prefer using an `Input(shape)` object as the first layer in the model instead.\n",
      "  super().__init__(\n"
     ]
    },
    {
     "name": "stdout",
     "output_type": "stream",
     "text": [
      "\u001b[1m115/115\u001b[0m \u001b[32m━━━━━━━━━━━━━━━━━━━━\u001b[0m\u001b[37m\u001b[0m \u001b[1m3s\u001b[0m 10ms/step - accuracy: 0.4154 - loss: 1.2100 - val_accuracy: 0.6991 - val_loss: 0.8172\n",
      "Epoch 2/10\n",
      "\u001b[1m115/115\u001b[0m \u001b[32m━━━━━━━━━━━━━━━━━━━━\u001b[0m\u001b[37m\u001b[0m \u001b[1m1s\u001b[0m 9ms/step - accuracy: 0.7604 - loss: 0.6519 - val_accuracy: 0.7702 - val_loss: 0.5717\n",
      "Epoch 3/10\n",
      "\u001b[1m115/115\u001b[0m \u001b[32m━━━━━━━━━━━━━━━━━━━━\u001b[0m\u001b[37m\u001b[0m \u001b[1m1s\u001b[0m 8ms/step - accuracy: 0.8053 - loss: 0.5232 - val_accuracy: 0.8020 - val_loss: 0.5526\n",
      "Epoch 4/10\n",
      "\u001b[1m115/115\u001b[0m \u001b[32m━━━━━━━━━━━━━━━━━━━━\u001b[0m\u001b[37m\u001b[0m \u001b[1m1s\u001b[0m 9ms/step - accuracy: 0.8443 - loss: 0.4089 - val_accuracy: 0.8118 - val_loss: 0.5070\n",
      "Epoch 5/10\n",
      "\u001b[1m115/115\u001b[0m \u001b[32m━━━━━━━━━━━━━━━━━━━━\u001b[0m\u001b[37m\u001b[0m \u001b[1m1s\u001b[0m 9ms/step - accuracy: 0.8529 - loss: 0.3879 - val_accuracy: 0.8337 - val_loss: 0.4761\n",
      "Epoch 6/10\n",
      "\u001b[1m115/115\u001b[0m \u001b[32m━━━━━━━━━━━━━━━━━━━━\u001b[0m\u001b[37m\u001b[0m \u001b[1m1s\u001b[0m 8ms/step - accuracy: 0.8808 - loss: 0.3175 - val_accuracy: 0.8217 - val_loss: 0.4688\n",
      "Epoch 7/10\n",
      "\u001b[1m115/115\u001b[0m \u001b[32m━━━━━━━━━━━━━━━━━━━━\u001b[0m\u001b[37m\u001b[0m \u001b[1m1s\u001b[0m 9ms/step - accuracy: 0.8989 - loss: 0.2693 - val_accuracy: 0.8392 - val_loss: 0.4206\n",
      "Epoch 8/10\n",
      "\u001b[1m115/115\u001b[0m \u001b[32m━━━━━━━━━━━━━━━━━━━━\u001b[0m\u001b[37m\u001b[0m \u001b[1m1s\u001b[0m 9ms/step - accuracy: 0.8837 - loss: 0.2959 - val_accuracy: 0.8545 - val_loss: 0.4153\n",
      "Epoch 9/10\n",
      "\u001b[1m115/115\u001b[0m \u001b[32m━━━━━━━━━━━━━━━━━━━━\u001b[0m\u001b[37m\u001b[0m \u001b[1m1s\u001b[0m 9ms/step - accuracy: 0.9108 - loss: 0.2342 - val_accuracy: 0.8687 - val_loss: 0.3727\n",
      "Epoch 10/10\n",
      "\u001b[1m115/115\u001b[0m \u001b[32m━━━━━━━━━━━━━━━━━━━━\u001b[0m\u001b[37m\u001b[0m \u001b[1m1s\u001b[0m 8ms/step - accuracy: 0.9385 - loss: 0.1842 - val_accuracy: 0.8589 - val_loss: 0.4362\n",
      "Fold 5\n",
      "Epoch 1/10\n"
     ]
    },
    {
     "name": "stderr",
     "output_type": "stream",
     "text": [
      "c:\\Users\\Willi\\AppData\\Local\\Programs\\Python\\Python312\\Lib\\site-packages\\keras\\src\\layers\\convolutional\\base_conv.py:99: UserWarning: Do not pass an `input_shape`/`input_dim` argument to a layer. When using Sequential models, prefer using an `Input(shape)` object as the first layer in the model instead.\n",
      "  super().__init__(\n"
     ]
    },
    {
     "name": "stdout",
     "output_type": "stream",
     "text": [
      "\u001b[1m115/115\u001b[0m \u001b[32m━━━━━━━━━━━━━━━━━━━━\u001b[0m\u001b[37m\u001b[0m \u001b[1m2s\u001b[0m 8ms/step - accuracy: 0.4620 - loss: 1.1504 - val_accuracy: 0.6911 - val_loss: 0.7987\n",
      "Epoch 2/10\n",
      "\u001b[1m115/115\u001b[0m \u001b[32m━━━━━━━━━━━━━━━━━━━━\u001b[0m\u001b[37m\u001b[0m \u001b[1m1s\u001b[0m 6ms/step - accuracy: 0.7406 - loss: 0.6921 - val_accuracy: 0.7809 - val_loss: 0.5396\n",
      "Epoch 3/10\n",
      "\u001b[1m115/115\u001b[0m \u001b[32m━━━━━━━━━━━━━━━━━━━━\u001b[0m\u001b[37m\u001b[0m \u001b[1m1s\u001b[0m 7ms/step - accuracy: 0.7976 - loss: 0.5258 - val_accuracy: 0.8094 - val_loss: 0.4745\n",
      "Epoch 4/10\n",
      "\u001b[1m115/115\u001b[0m \u001b[32m━━━━━━━━━━━━━━━━━━━━\u001b[0m\u001b[37m\u001b[0m \u001b[1m1s\u001b[0m 6ms/step - accuracy: 0.8304 - loss: 0.4353 - val_accuracy: 0.8324 - val_loss: 0.4313\n",
      "Epoch 5/10\n",
      "\u001b[1m115/115\u001b[0m \u001b[32m━━━━━━━━━━━━━━━━━━━━\u001b[0m\u001b[37m\u001b[0m \u001b[1m1s\u001b[0m 7ms/step - accuracy: 0.8586 - loss: 0.3846 - val_accuracy: 0.8423 - val_loss: 0.3872\n",
      "Epoch 6/10\n",
      "\u001b[1m115/115\u001b[0m \u001b[32m━━━━━━━━━━━━━━━━━━━━\u001b[0m\u001b[37m\u001b[0m \u001b[1m1s\u001b[0m 7ms/step - accuracy: 0.8417 - loss: 0.3901 - val_accuracy: 0.8105 - val_loss: 0.4563\n",
      "Epoch 7/10\n",
      "\u001b[1m115/115\u001b[0m \u001b[32m━━━━━━━━━━━━━━━━━━━━\u001b[0m\u001b[37m\u001b[0m \u001b[1m1s\u001b[0m 6ms/step - accuracy: 0.8708 - loss: 0.3133 - val_accuracy: 0.8587 - val_loss: 0.3700\n",
      "Epoch 8/10\n",
      "\u001b[1m115/115\u001b[0m \u001b[32m━━━━━━━━━━━━━━━━━━━━\u001b[0m\u001b[37m\u001b[0m \u001b[1m1s\u001b[0m 6ms/step - accuracy: 0.9013 - loss: 0.2752 - val_accuracy: 0.8412 - val_loss: 0.3853\n",
      "Epoch 9/10\n",
      "\u001b[1m115/115\u001b[0m \u001b[32m━━━━━━━━━━━━━━━━━━━━\u001b[0m\u001b[37m\u001b[0m \u001b[1m1s\u001b[0m 6ms/step - accuracy: 0.8986 - loss: 0.2602 - val_accuracy: 0.8708 - val_loss: 0.3200\n",
      "Epoch 10/10\n",
      "\u001b[1m115/115\u001b[0m \u001b[32m━━━━━━━━━━━━━━━━━━━━\u001b[0m\u001b[37m\u001b[0m \u001b[1m1s\u001b[0m 7ms/step - accuracy: 0.9193 - loss: 0.2168 - val_accuracy: 0.8762 - val_loss: 0.3200\n"
     ]
    }
   ],
   "source": [
    "# Função para definir a arquitetura da LeNet-5\n",
    "def LeNet5(input_shape, num_classes):\n",
    "    model = models.Sequential()\n",
    "    model.add(layers.Conv2D(6, kernel_size=(5, 5), strides=(1, 1), activation='relu', input_shape=input_shape))\n",
    "    model.add(layers.MaxPooling2D(pool_size=(2, 2), strides=(2, 2)))\n",
    "    model.add(layers.Conv2D(16, kernel_size=(5, 5), strides=(1, 1), activation='relu'))\n",
    "    model.add(layers.MaxPooling2D(pool_size=(2, 2), strides=(2, 2)))\n",
    "    model.add(layers.Flatten())\n",
    "    model.add(layers.Dense(120, activation='relu'))\n",
    "    model.add(layers.Dense(84, activation='relu'))\n",
    "    model.add(layers.Dense(num_classes, activation='softmax'))\n",
    "    return model\n",
    "\n",
    "# Definindo as variáveis input_shape e num_classes\n",
    "input_shape = (32, 32, 3)\n",
    "num_classes = 4\n",
    "\n",
    "# Aplicando a validação cruzada K-Fold\n",
    "kfold = KFold(n_splits=5, shuffle=True, random_state=42)\n",
    "\n",
    "for fold, (train_indices, val_indices) in enumerate(kfold.split(train_images)):\n",
    "    print(f\"Fold {fold + 1}\")\n",
    "    fold_train_images = [train_images[i] for i in train_indices]\n",
    "    fold_train_labels = [train_labels[i] for i in train_indices]\n",
    "    fold_val_images = [train_images[i] for i in val_indices]\n",
    "    fold_val_labels = [train_labels[i] for i in val_indices]\n",
    "    \n",
    "    # Carregar e pré-processar imagens de treinamento e validação\n",
    "    fold_train_images_processed = []\n",
    "    fold_val_images_processed = []\n",
    "    for img_path in fold_train_images:\n",
    "        img = load_img(img_path, target_size=(32, 32))\n",
    "        img_array = img_to_array(img)\n",
    "        img_array = img_array / 255.0\n",
    "        fold_train_images_processed.append(img_array)\n",
    "    for img_path in fold_val_images:\n",
    "        img = load_img(img_path, target_size=(32, 32))\n",
    "        img_array = img_to_array(img)\n",
    "        img_array = img_array / 255.0\n",
    "        fold_val_images_processed.append(img_array)\n",
    "    \n",
    "    fold_train_images_processed = np.array(fold_train_images_processed)\n",
    "    fold_val_images_processed = np.array(fold_val_images_processed)\n",
    "    \n",
    "    # Codificar rótulos\n",
    "    label_encoder = LabelEncoder()\n",
    "    fold_train_labels_encoded = label_encoder.fit_transform(fold_train_labels)\n",
    "    fold_val_labels_encoded = label_encoder.transform(fold_val_labels)\n",
    "    \n",
    "    # Converter rótulos para tipo inteiro\n",
    "    fold_train_labels = fold_train_labels_encoded.astype(int)\n",
    "    fold_val_labels = fold_val_labels_encoded.astype(int)\n",
    "    \n",
    "    # Definindo a arquitetura da LeNet-5 para cada fold\n",
    "    model = LeNet5(input_shape, num_classes)\n",
    "    \n",
    "    # Compilando o modelo\n",
    "    model.compile(optimizer='adam',\n",
    "                  loss='sparse_categorical_crossentropy',\n",
    "                  metrics=['accuracy'])\n",
    "    \n",
    "    # Treinamento do modelo para cada fold\n",
    "    model.fit(x=fold_train_images_processed, y=fold_train_labels,\n",
    "              validation_data=(fold_val_images_processed, fold_val_labels),\n",
    "              epochs=10, batch_size=32)"
   ]
  },
  {
   "cell_type": "code",
   "execution_count": 15,
   "metadata": {},
   "outputs": [
    {
     "name": "stdout",
     "output_type": "stream",
     "text": [
      "Fold 3\n",
      "Epoch 1/10\n"
     ]
    },
    {
     "name": "stderr",
     "output_type": "stream",
     "text": [
      "c:\\Users\\Willi\\AppData\\Local\\Programs\\Python\\Python312\\Lib\\site-packages\\keras\\src\\layers\\convolutional\\base_conv.py:99: UserWarning: Do not pass an `input_shape`/`input_dim` argument to a layer. When using Sequential models, prefer using an `Input(shape)` object as the first layer in the model instead.\n",
      "  super().__init__(\n"
     ]
    },
    {
     "name": "stdout",
     "output_type": "stream",
     "text": [
      "\u001b[1m115/115\u001b[0m \u001b[32m━━━━━━━━━━━━━━━━━━━━\u001b[0m\u001b[37m\u001b[0m \u001b[1m3s\u001b[0m 9ms/step - accuracy: 0.4109 - loss: 1.1940 - val_accuracy: 0.7046 - val_loss: 0.6956\n",
      "Epoch 2/10\n",
      "\u001b[1m115/115\u001b[0m \u001b[32m━━━━━━━━━━━━━━━━━━━━\u001b[0m\u001b[37m\u001b[0m \u001b[1m1s\u001b[0m 6ms/step - accuracy: 0.7641 - loss: 0.6375 - val_accuracy: 0.7713 - val_loss: 0.5822\n",
      "Epoch 3/10\n",
      "\u001b[1m115/115\u001b[0m \u001b[32m━━━━━━━━━━━━━━━━━━━━\u001b[0m\u001b[37m\u001b[0m \u001b[1m1s\u001b[0m 5ms/step - accuracy: 0.8109 - loss: 0.5045 - val_accuracy: 0.8096 - val_loss: 0.5051\n",
      "Epoch 4/10\n",
      "\u001b[1m115/115\u001b[0m \u001b[32m━━━━━━━━━━━━━━━━━━━━\u001b[0m\u001b[37m\u001b[0m \u001b[1m1s\u001b[0m 6ms/step - accuracy: 0.8388 - loss: 0.4284 - val_accuracy: 0.7987 - val_loss: 0.4915\n",
      "Epoch 5/10\n",
      "\u001b[1m115/115\u001b[0m \u001b[32m━━━━━━━━━━━━━━━━━━━━\u001b[0m\u001b[37m\u001b[0m \u001b[1m1s\u001b[0m 6ms/step - accuracy: 0.8541 - loss: 0.3875 - val_accuracy: 0.8260 - val_loss: 0.4297\n",
      "Epoch 6/10\n",
      "\u001b[1m115/115\u001b[0m \u001b[32m━━━━━━━━━━━━━━━━━━━━\u001b[0m\u001b[37m\u001b[0m \u001b[1m1s\u001b[0m 6ms/step - accuracy: 0.8664 - loss: 0.3575 - val_accuracy: 0.8217 - val_loss: 0.4384\n",
      "Epoch 7/10\n",
      "\u001b[1m115/115\u001b[0m \u001b[32m━━━━━━━━━━━━━━━━━━━━\u001b[0m\u001b[37m\u001b[0m \u001b[1m1s\u001b[0m 6ms/step - accuracy: 0.8882 - loss: 0.3047 - val_accuracy: 0.8184 - val_loss: 0.4539\n",
      "Epoch 8/10\n",
      "\u001b[1m115/115\u001b[0m \u001b[32m━━━━━━━━━━━━━━━━━━━━\u001b[0m\u001b[37m\u001b[0m \u001b[1m1s\u001b[0m 5ms/step - accuracy: 0.9095 - loss: 0.2624 - val_accuracy: 0.8687 - val_loss: 0.3602\n",
      "Epoch 9/10\n",
      "\u001b[1m115/115\u001b[0m \u001b[32m━━━━━━━━━━━━━━━━━━━━\u001b[0m\u001b[37m\u001b[0m \u001b[1m1s\u001b[0m 5ms/step - accuracy: 0.9289 - loss: 0.2085 - val_accuracy: 0.8239 - val_loss: 0.4385\n",
      "Epoch 10/10\n",
      "\u001b[1m115/115\u001b[0m \u001b[32m━━━━━━━━━━━━━━━━━━━━\u001b[0m\u001b[37m\u001b[0m \u001b[1m1s\u001b[0m 5ms/step - accuracy: 0.9179 - loss: 0.2303 - val_accuracy: 0.8611 - val_loss: 0.4038\n"
     ]
    }
   ],
   "source": [
    "def LeNet5(input_shape, num_classes):\n",
    "    model = models.Sequential()\n",
    "    model.add(layers.Conv2D(6, kernel_size=(5, 5), strides=(1, 1), activation='relu', input_shape=input_shape))\n",
    "    model.add(layers.MaxPooling2D(pool_size=(2, 2), strides=(2, 2)))\n",
    "    model.add(layers.Conv2D(16, kernel_size=(5, 5), strides=(1, 1), activation='relu'))\n",
    "    model.add(layers.MaxPooling2D(pool_size=(2, 2), strides=(2, 2)))\n",
    "    model.add(layers.Flatten())\n",
    "    model.add(layers.Dense(120, activation='relu'))\n",
    "    model.add(layers.Dense(84, activation='relu'))\n",
    "    model.add(layers.Dense(num_classes, activation='softmax'))\n",
    "    return model\n",
    "\n",
    "# Definindo as variáveis input_shape e num_classes\n",
    "input_shape = (32, 32, 3)\n",
    "num_classes = 4\n",
    "\n",
    "# Aplicando a validação cruzada K-Fold\n",
    "kfold = KFold(n_splits=5, shuffle=True, random_state=42)\n",
    "\n",
    "# Escolhendo o fold desejado\n",
    "chosen_fold = 3\n",
    "\n",
    "for fold, (train_indices, val_indices) in enumerate(kfold.split(train_images)):\n",
    "    if fold == chosen_fold:\n",
    "        print(f\"Fold {fold}\")\n",
    "        fold_train_images = [train_images[i] for i in train_indices]\n",
    "        fold_train_labels = [train_labels[i] for i in train_indices]\n",
    "        fold_val_images = [train_images[i] for i in val_indices]\n",
    "        fold_val_labels = [train_labels[i] for i in val_indices]\n",
    "\n",
    "        # Carregar e pré-processar imagens de treinamento e validação\n",
    "        fold_train_images_processed = []\n",
    "        fold_val_images_processed = []\n",
    "        for img_path in fold_train_images:\n",
    "            img = load_img(img_path, target_size=(32, 32))\n",
    "            img_array = img_to_array(img)\n",
    "            img_array = img_array / 255.0\n",
    "            fold_train_images_processed.append(img_array)\n",
    "        for img_path in fold_val_images:\n",
    "            img = load_img(img_path, target_size=(32, 32))\n",
    "            img_array = img_to_array(img)\n",
    "            img_array = img_array / 255.0\n",
    "            fold_val_images_processed.append(img_array)\n",
    "\n",
    "        fold_train_images_processed = np.array(fold_train_images_processed)\n",
    "        fold_val_images_processed = np.array(fold_val_images_processed)\n",
    "\n",
    "        # Codificar rótulos\n",
    "        label_encoder = LabelEncoder()\n",
    "        fold_train_labels_encoded = label_encoder.fit_transform(fold_train_labels)\n",
    "        fold_val_labels_encoded = label_encoder.transform(fold_val_labels)\n",
    "\n",
    "        # Converter rótulos para tipo inteiro\n",
    "        fold_train_labels = fold_train_labels_encoded.astype(int)\n",
    "        fold_val_labels = fold_val_labels_encoded.astype(int)\n",
    "\n",
    "        # Definindo a arquitetura da LeNet-5 para cada fold\n",
    "        model = LeNet5(input_shape, num_classes)\n",
    "\n",
    "        # Compilando o modelo\n",
    "        model.compile(optimizer='adam',\n",
    "                      loss='sparse_categorical_crossentropy',\n",
    "                      metrics=['accuracy'])\n",
    "\n",
    "        # Treinamento do modelo para cada fold\n",
    "        model.fit(x=fold_train_images_processed, y=fold_train_labels,\n",
    "                  validation_data=(fold_val_images_processed, fold_val_labels),\n",
    "                  epochs=10, batch_size=32)"
   ]
  },
  {
   "cell_type": "code",
   "execution_count": 11,
   "metadata": {},
   "outputs": [],
   "source": [
    "# Salvar o modelo treinado\n",
    "model.save('LeNet5Kfold_model.keras')"
   ]
  },
  {
   "cell_type": "code",
   "execution_count": 4,
   "metadata": {},
   "outputs": [],
   "source": [
    "# Carregar o modelo treinado\n",
    "LeNet5ModelKfold = load_model('LeNet5Kfold_model.keras')"
   ]
  },
  {
   "cell_type": "code",
   "execution_count": 13,
   "metadata": {},
   "outputs": [
    {
     "name": "stdout",
     "output_type": "stream",
     "text": [
      "\u001b[1m1/1\u001b[0m \u001b[32m━━━━━━━━━━━━━━━━━━━━\u001b[0m\u001b[37m\u001b[0m \u001b[1m0s\u001b[0m 102ms/step\n",
      "Classe Pituary: 3\n"
     ]
    }
   ],
   "source": [
    "# Carregando a imagem que para classificar\n",
    "img_path = r\"C:\\Users\\Willi\\OneDrive\\Área de Trabalho\\tcc\\archive (2)\\Testing\\pituitary\\Te-pi_0054.jpg\"\n",
    "img = image.load_img(img_path, target_size=(32, 32))\n",
    "img_array = image.img_to_array(img)\n",
    "img_array = img_array / 255.0\n",
    "\n",
    "# Adicionando uma dimensão extra para se adequar ao formato esperado pelo modelo\n",
    "img_array = np.expand_dims(img_array, axis=0)\n",
    "\n",
    "# Fazendo a previsão usando o modelo\n",
    "predictions = LeNet5ModelKfold.predict(img_array)\n",
    "\n",
    "# Índice com maior probabilidade\n",
    "predicted_class = np.argmax(predictions)\n",
    "\n",
    "# Classe prevista\n",
    "if predicted_class == 0:\n",
    "    print(\"Classe Glioma:\", predicted_class)\n",
    "elif predicted_class == 1:\n",
    "    print(\"Classe Meningioma:\", predicted_class)\n",
    "elif predicted_class == 2:\n",
    "    print(\"Classe Notumor:\", predicted_class)\n",
    "elif predicted_class == 3:\n",
    "    print(\"Classe Pituary:\", predicted_class)\n",
    "else:\n",
    "    print('Classe não encontrada')"
   ]
  },
  {
   "cell_type": "markdown",
   "metadata": {},
   "source": [
    "## Análise da acurácia"
   ]
  },
  {
   "cell_type": "code",
   "execution_count": 5,
   "metadata": {},
   "outputs": [
    {
     "name": "stdout",
     "output_type": "stream",
     "text": [
      "\u001b[1m143/143\u001b[0m \u001b[32m━━━━━━━━━━━━━━━━━━━━\u001b[0m\u001b[37m\u001b[0m \u001b[1m1s\u001b[0m 4ms/step\n",
      "Acurácia: 0.9268986649157365\n"
     ]
    }
   ],
   "source": [
    "# Carregar e pré-processar imagens de treinamento\n",
    "train_images_processed = load_images_from_paths(train_images)\n",
    "\n",
    "# Fazer a previsão do conjunto de validação\n",
    "train_predictions = LeNet5ModelKfold.predict(train_images_processed)\n",
    "train_predictions_classes = np.argmax(train_predictions, axis=1)\n",
    "\n",
    "# Calcular a acurácia\n",
    "accuracy = accuracy_score(train_labels, train_predictions_classes)\n",
    "print(\"Acurácia:\", accuracy)"
   ]
  },
  {
   "cell_type": "code",
   "execution_count": 6,
   "metadata": {},
   "outputs": [
    {
     "data": {
      "image/png": "[encoded data removed]",
      "text/plain": [
       "<Figure size 800x600 with 1 Axes>"
      ]
     },
     "metadata": {},
     "output_type": "display_data"
    }
   ],
   "source": [
    "# Matriz de confusão\n",
    "conf_matrix = confusion_matrix(train_labels, train_predictions_classes)\n",
    "\n",
    "# Exibir a matriz de confusão\n",
    "plt.figure(figsize=(8, 6))\n",
    "sns.heatmap(conf_matrix, annot=True, fmt='g', cmap='Blues', cbar=False)\n",
    "plt.xlabel('Predicted labels')\n",
    "plt.ylabel('True labels')\n",
    "plt.title('Confusion Matrix (Training)')\n",
    "plt.show()"
   ]
  },
  {
   "cell_type": "code",
   "execution_count": 8,
   "metadata": {},
   "outputs": [
    {
     "name": "stdout",
     "output_type": "stream",
     "text": [
      "Relatório de Classificação:\n",
      "              precision    recall  f1-score   support\n",
      "\n",
      "      glioma       0.85      0.96      0.91      1033\n",
      "  meningioma       0.94      0.78      0.85      1074\n",
      "     notumor       0.98      0.97      0.97      1304\n",
      "   pituitary       0.94      0.99      0.96      1158\n",
      "\n",
      "    accuracy                           0.93      4569\n",
      "   macro avg       0.93      0.92      0.92      4569\n",
      "weighted avg       0.93      0.93      0.93      4569\n",
      "\n"
     ]
    }
   ],
   "source": [
    "# Precisão, recall e F1-score\n",
    "report = classification_report(train_labels, train_predictions_classes, target_names=label_encoder.classes_)\n",
    "print(\"Relatório de Classificação:\")\n",
    "print(report)"
   ]
  },
  {
   "cell_type": "markdown",
   "metadata": {},
   "source": [
    "# AlexNet"
   ]
  },
  {
   "cell_type": "markdown",
   "metadata": {},
   "source": [
    "## Criação do modelo"
   ]
  },
  {
   "cell_type": "code",
   "execution_count": 2,
   "metadata": {},
   "outputs": [
    {
     "name": "stdout",
     "output_type": "stream",
     "text": [
      "Número de imagens de treinamento: 4569\n",
      "Número de imagens de validação: 1143\n",
      "Número de imagens de teste: 1311\n"
     ]
    }
   ],
   "source": [
    "# Diretório que contém as pastas Training e Testing\n",
    "data_dir = r'C:\\Users\\Willi\\OneDrive\\Área de Trabalho\\tcc\\archive (2)'\n",
    "\n",
    "# Listando os diretórios de treinamento e teste\n",
    "train_dir = os.path.join(data_dir, 'Training')\n",
    "test_dir = os.path.join(data_dir, 'Testing')\n",
    "\n",
    "# Carregando as imagens e retornando os caminhos dos arquivos e rótulos\n",
    "def load_images_from_directory(directory):\n",
    "    images = []\n",
    "    labels = []\n",
    "    for label in os.listdir(directory):\n",
    "        label_dir = os.path.join(directory, label)\n",
    "        for img_file in os.listdir(label_dir):\n",
    "            img_path = os.path.join(label_dir, img_file)\n",
    "            images.append(img_path)\n",
    "            labels.append(label)\n",
    "    return images, labels\n",
    "\n",
    "# Carregando imagens e rótulos de treinamento\n",
    "train_images, train_labels = load_images_from_directory(train_dir)\n",
    "\n",
    "# Carregando imagens e rótulos de teste\n",
    "test_images, test_labels = load_images_from_directory(test_dir)\n",
    "\n",
    "# Dividindo os dados de treinamento em treinamento e validação\n",
    "train_images, val_images, train_labels, val_labels = train_test_split(train_images, train_labels, test_size=0.2, random_state=42)\n",
    "\n",
    "# Codificando os rótulos com LabelEncoder\n",
    "label_encoder = LabelEncoder()\n",
    "train_labels_encoded = label_encoder.fit_transform(train_labels)\n",
    "val_labels_encoded = label_encoder.transform(val_labels)\n",
    "\n",
    "# Convertendo rótulos para tipo inteiro\n",
    "train_labels = train_labels_encoded.astype(int)\n",
    "val_labels = val_labels_encoded.astype(int)\n",
    "\n",
    "# Exibindo as informações dos dados\n",
    "print(\"Número de imagens de treinamento:\", len(train_images))\n",
    "print(\"Número de imagens de validação:\", len(val_images))\n",
    "print(\"Número de imagens de teste:\", len(test_images))"
   ]
  },
  {
   "cell_type": "code",
   "execution_count": 3,
   "metadata": {},
   "outputs": [],
   "source": [
    "# Função para pré-processar imagens\n",
    "def preprocess_image(image_path):\n",
    "    img = tf.keras.preprocessing.image.load_img(image_path, target_size=(227, 227))\n",
    "    img_array = tf.keras.preprocessing.image.img_to_array(img)\n",
    "    img_array = img_array / 255.0\n",
    "    return img_array\n",
    "\n",
    "# Função para pré-processar um lote de imagens\n",
    "def preprocess_images_in_batches(image_paths, batch_size=32):\n",
    "    images_processed = []\n",
    "    for i in range(0, len(image_paths), batch_size):\n",
    "        batch_paths = image_paths[i:i+batch_size]\n",
    "        batch_images = [preprocess_image(image_path) for image_path in batch_paths]\n",
    "        images_processed.extend(batch_images)\n",
    "    return np.array(images_processed)\n",
    "\n",
    "# Exibindo as informações dos dados\n",
    "batch_size = 32\n",
    "train_images_processed = preprocess_images_in_batches(train_images, batch_size=batch_size)\n",
    "val_images_processed = preprocess_images_in_batches(val_images, batch_size=batch_size)\n",
    "test_images_processed = preprocess_images_in_batches(test_images, batch_size=batch_size)\n",
    "train_images_processed = preprocess_images_in_batches(train_images, batch_size=batch_size)"
   ]
  },
  {
   "cell_type": "code",
   "execution_count": 8,
   "metadata": {},
   "outputs": [
    {
     "name": "stdout",
     "output_type": "stream",
     "text": [
      "Fold 1\n"
     ]
    },
    {
     "name": "stderr",
     "output_type": "stream",
     "text": [
      "c:\\Users\\Willi\\AppData\\Local\\Programs\\Python\\Python312\\Lib\\site-packages\\keras\\src\\layers\\convolutional\\base_conv.py:99: UserWarning: Do not pass an `input_shape`/`input_dim` argument to a layer. When using Sequential models, prefer using an `Input(shape)` object as the first layer in the model instead.\n",
      "  super().__init__(\n"
     ]
    },
    {
     "name": "stdout",
     "output_type": "stream",
     "text": [
      "Epoch 1/10\n",
      "\u001b[1m115/115\u001b[0m \u001b[32m━━━━━━━━━━━━━━━━━━━━\u001b[0m\u001b[37m\u001b[0m \u001b[1m180s\u001b[0m 1s/step - accuracy: 0.5352 - loss: 5.0689 - val_accuracy: 0.2429 - val_loss: 3.3616\n",
      "Epoch 2/10\n",
      "\u001b[1m115/115\u001b[0m \u001b[32m━━━━━━━━━━━━━━━━━━━━\u001b[0m\u001b[37m\u001b[0m \u001b[1m168s\u001b[0m 1s/step - accuracy: 0.7653 - loss: 0.6396 - val_accuracy: 0.4978 - val_loss: 1.8671\n",
      "Epoch 3/10\n",
      "\u001b[1m115/115\u001b[0m \u001b[32m━━━━━━━━━━━━━━━━━━━━\u001b[0m\u001b[37m\u001b[0m \u001b[1m163s\u001b[0m 1s/step - accuracy: 0.7631 - loss: 0.6496 - val_accuracy: 0.6324 - val_loss: 1.3004\n",
      "Epoch 4/10\n",
      "\u001b[1m115/115\u001b[0m \u001b[32m━━━━━━━━━━━━━━━━━━━━\u001b[0m\u001b[37m\u001b[0m \u001b[1m158s\u001b[0m 1s/step - accuracy: 0.7618 - loss: 0.6778 - val_accuracy: 0.8195 - val_loss: 0.5112\n",
      "Epoch 5/10\n",
      "\u001b[1m115/115\u001b[0m \u001b[32m━━━━━━━━━━━━━━━━━━━━\u001b[0m\u001b[37m\u001b[0m \u001b[1m156s\u001b[0m 1s/step - accuracy: 0.8398 - loss: 0.4466 - val_accuracy: 0.6849 - val_loss: 0.7787\n",
      "Epoch 6/10\n",
      "\u001b[1m115/115\u001b[0m \u001b[32m━━━━━━━━━━━━━━━━━━━━\u001b[0m\u001b[37m\u001b[0m \u001b[1m157s\u001b[0m 1s/step - accuracy: 0.8392 - loss: 0.4378 - val_accuracy: 0.7560 - val_loss: 0.6462\n",
      "Epoch 7/10\n",
      "\u001b[1m115/115\u001b[0m \u001b[32m━━━━━━━━━━━━━━━━━━━━\u001b[0m\u001b[37m\u001b[0m \u001b[1m157s\u001b[0m 1s/step - accuracy: 0.8576 - loss: 0.4035 - val_accuracy: 0.6368 - val_loss: 0.9498\n",
      "Epoch 8/10\n",
      "\u001b[1m115/115\u001b[0m \u001b[32m━━━━━━━━━━━━━━━━━━━━\u001b[0m\u001b[37m\u001b[0m \u001b[1m156s\u001b[0m 1s/step - accuracy: 0.8475 - loss: 0.4357 - val_accuracy: 0.6740 - val_loss: 1.2362\n",
      "Epoch 9/10\n",
      "\u001b[1m115/115\u001b[0m \u001b[32m━━━━━━━━━━━━━━━━━━━━\u001b[0m\u001b[37m\u001b[0m \u001b[1m155s\u001b[0m 1s/step - accuracy: 0.8432 - loss: 0.4918 - val_accuracy: 0.8282 - val_loss: 0.6162\n",
      "Epoch 10/10\n",
      "\u001b[1m115/115\u001b[0m \u001b[32m━━━━━━━━━━━━━━━━━━━━\u001b[0m\u001b[37m\u001b[0m \u001b[1m156s\u001b[0m 1s/step - accuracy: 0.8641 - loss: 0.4004 - val_accuracy: 0.8435 - val_loss: 0.4430\n",
      "Fold 2\n",
      "Epoch 1/10\n",
      "\u001b[1m115/115\u001b[0m \u001b[32m━━━━━━━━━━━━━━━━━━━━\u001b[0m\u001b[37m\u001b[0m \u001b[1m180s\u001b[0m 1s/step - accuracy: 0.5196 - loss: 5.1500 - val_accuracy: 0.3468 - val_loss: 3.9293\n",
      "Epoch 2/10\n",
      "\u001b[1m115/115\u001b[0m \u001b[32m━━━━━━━━━━━━━━━━━━━━\u001b[0m\u001b[37m\u001b[0m \u001b[1m155s\u001b[0m 1s/step - accuracy: 0.6915 - loss: 0.9284 - val_accuracy: 0.5350 - val_loss: 1.3271\n",
      "Epoch 3/10\n",
      "\u001b[1m115/115\u001b[0m \u001b[32m━━━━━━━━━━━━━━━━━━━━\u001b[0m\u001b[37m\u001b[0m \u001b[1m154s\u001b[0m 1s/step - accuracy: 0.7474 - loss: 0.6920 - val_accuracy: 0.6674 - val_loss: 0.8553\n",
      "Epoch 4/10\n",
      "\u001b[1m115/115\u001b[0m \u001b[32m━━━━━━━━━━━━━━━━━━━━\u001b[0m\u001b[37m\u001b[0m \u001b[1m152s\u001b[0m 1s/step - accuracy: 0.7965 - loss: 0.6064 - val_accuracy: 0.7177 - val_loss: 0.7822\n",
      "Epoch 5/10\n",
      "\u001b[1m115/115\u001b[0m \u001b[32m━━━━━━━━━━━━━━━━━━━━\u001b[0m\u001b[37m\u001b[0m \u001b[1m153s\u001b[0m 1s/step - accuracy: 0.7976 - loss: 0.5632 - val_accuracy: 0.4814 - val_loss: 3.2644\n",
      "Epoch 6/10\n",
      "\u001b[1m115/115\u001b[0m \u001b[32m━━━━━━━━━━━━━━━━━━━━\u001b[0m\u001b[37m\u001b[0m \u001b[1m151s\u001b[0m 1s/step - accuracy: 0.8088 - loss: 0.5275 - val_accuracy: 0.7615 - val_loss: 0.6721\n",
      "Epoch 7/10\n",
      "\u001b[1m115/115\u001b[0m \u001b[32m━━━━━━━━━━━━━━━━━━━━\u001b[0m\u001b[37m\u001b[0m \u001b[1m153s\u001b[0m 1s/step - accuracy: 0.8533 - loss: 0.4392 - val_accuracy: 0.6225 - val_loss: 1.6959\n",
      "Epoch 8/10\n",
      "\u001b[1m115/115\u001b[0m \u001b[32m━━━━━━━━━━━━━━━━━━━━\u001b[0m\u001b[37m\u001b[0m \u001b[1m152s\u001b[0m 1s/step - accuracy: 0.8583 - loss: 0.4086 - val_accuracy: 0.7309 - val_loss: 0.9113\n",
      "Epoch 9/10\n",
      "\u001b[1m115/115\u001b[0m \u001b[32m━━━━━━━━━━━━━━━━━━━━\u001b[0m\u001b[37m\u001b[0m \u001b[1m155s\u001b[0m 1s/step - accuracy: 0.8568 - loss: 0.4266 - val_accuracy: 0.8425 - val_loss: 0.5007\n",
      "Epoch 10/10\n",
      "\u001b[1m115/115\u001b[0m \u001b[32m━━━━━━━━━━━━━━━━━━━━\u001b[0m\u001b[37m\u001b[0m \u001b[1m155s\u001b[0m 1s/step - accuracy: 0.8613 - loss: 0.3908 - val_accuracy: 0.7123 - val_loss: 0.7673\n",
      "Fold 3\n",
      "Epoch 1/10\n",
      "\u001b[1m115/115\u001b[0m \u001b[32m━━━━━━━━━━━━━━━━━━━━\u001b[0m\u001b[37m\u001b[0m \u001b[1m169s\u001b[0m 1s/step - accuracy: 0.5259 - loss: 7.1125 - val_accuracy: 0.3643 - val_loss: 2.3606\n",
      "Epoch 2/10\n",
      "\u001b[1m115/115\u001b[0m \u001b[32m━━━━━━━━━━━━━━━━━━━━\u001b[0m\u001b[37m\u001b[0m \u001b[1m156s\u001b[0m 1s/step - accuracy: 0.6727 - loss: 0.8220 - val_accuracy: 0.4661 - val_loss: 1.2217\n",
      "Epoch 3/10\n",
      "\u001b[1m115/115\u001b[0m \u001b[32m━━━━━━━━━━━━━━━━━━━━\u001b[0m\u001b[37m\u001b[0m \u001b[1m154s\u001b[0m 1s/step - accuracy: 0.7115 - loss: 0.7270 - val_accuracy: 0.6291 - val_loss: 0.8226\n",
      "Epoch 4/10\n",
      "\u001b[1m115/115\u001b[0m \u001b[32m━━━━━━━━━━━━━━━━━━━━\u001b[0m\u001b[37m\u001b[0m \u001b[1m153s\u001b[0m 1s/step - accuracy: 0.7492 - loss: 0.6515 - val_accuracy: 0.6357 - val_loss: 0.8738\n",
      "Epoch 5/10\n",
      "\u001b[1m115/115\u001b[0m \u001b[32m━━━━━━━━━━━━━━━━━━━━\u001b[0m\u001b[37m\u001b[0m \u001b[1m152s\u001b[0m 1s/step - accuracy: 0.7985 - loss: 0.5669 - val_accuracy: 0.7593 - val_loss: 0.6411\n",
      "Epoch 6/10\n",
      "\u001b[1m115/115\u001b[0m \u001b[32m━━━━━━━━━━━━━━━━━━━━\u001b[0m\u001b[37m\u001b[0m \u001b[1m153s\u001b[0m 1s/step - accuracy: 0.8081 - loss: 0.5089 - val_accuracy: 0.8392 - val_loss: 0.4367\n",
      "Epoch 7/10\n",
      "\u001b[1m115/115\u001b[0m \u001b[32m━━━━━━━━━━━━━━━━━━━━\u001b[0m\u001b[37m\u001b[0m \u001b[1m151s\u001b[0m 1s/step - accuracy: 0.8129 - loss: 0.4944 - val_accuracy: 0.8009 - val_loss: 0.5076\n",
      "Epoch 8/10\n",
      "\u001b[1m115/115\u001b[0m \u001b[32m━━━━━━━━━━━━━━━━━━━━\u001b[0m\u001b[37m\u001b[0m \u001b[1m153s\u001b[0m 1s/step - accuracy: 0.8332 - loss: 0.4708 - val_accuracy: 0.4683 - val_loss: 2.6925\n",
      "Epoch 9/10\n",
      "\u001b[1m115/115\u001b[0m \u001b[32m━━━━━━━━━━━━━━━━━━━━\u001b[0m\u001b[37m\u001b[0m \u001b[1m151s\u001b[0m 1s/step - accuracy: 0.8524 - loss: 0.4138 - val_accuracy: 0.7024 - val_loss: 0.8940\n",
      "Epoch 10/10\n",
      "\u001b[1m115/115\u001b[0m \u001b[32m━━━━━━━━━━━━━━━━━━━━\u001b[0m\u001b[37m\u001b[0m \u001b[1m153s\u001b[0m 1s/step - accuracy: 0.8388 - loss: 0.4284 - val_accuracy: 0.8632 - val_loss: 0.3710\n",
      "Fold 4\n",
      "Epoch 1/10\n",
      "\u001b[1m115/115\u001b[0m \u001b[32m━━━━━━━━━━━━━━━━━━━━\u001b[0m\u001b[37m\u001b[0m \u001b[1m168s\u001b[0m 1s/step - accuracy: 0.5286 - loss: 6.5639 - val_accuracy: 0.4114 - val_loss: 2.7590\n",
      "Epoch 2/10\n",
      "\u001b[1m115/115\u001b[0m \u001b[32m━━━━━━━━━━━━━━━━━━━━\u001b[0m\u001b[37m\u001b[0m \u001b[1m153s\u001b[0m 1s/step - accuracy: 0.6833 - loss: 0.9991 - val_accuracy: 0.4836 - val_loss: 1.3253\n",
      "Epoch 3/10\n",
      "\u001b[1m115/115\u001b[0m \u001b[32m━━━━━━━━━━━━━━━━━━━━\u001b[0m\u001b[37m\u001b[0m \u001b[1m154s\u001b[0m 1s/step - accuracy: 0.7567 - loss: 0.6826 - val_accuracy: 0.7341 - val_loss: 0.6746\n",
      "Epoch 4/10\n",
      "\u001b[1m115/115\u001b[0m \u001b[32m━━━━━━━━━━━━━━━━━━━━\u001b[0m\u001b[37m\u001b[0m \u001b[1m152s\u001b[0m 1s/step - accuracy: 0.7821 - loss: 0.6218 - val_accuracy: 0.6958 - val_loss: 0.7338\n",
      "Epoch 5/10\n",
      "\u001b[1m115/115\u001b[0m \u001b[32m━━━━━━━━━━━━━━━━━━━━\u001b[0m\u001b[37m\u001b[0m \u001b[1m153s\u001b[0m 1s/step - accuracy: 0.7966 - loss: 0.5518 - val_accuracy: 0.7232 - val_loss: 0.6649\n",
      "Epoch 6/10\n",
      "\u001b[1m115/115\u001b[0m \u001b[32m━━━━━━━━━━━━━━━━━━━━\u001b[0m\u001b[37m\u001b[0m \u001b[1m152s\u001b[0m 1s/step - accuracy: 0.8269 - loss: 0.5102 - val_accuracy: 0.5788 - val_loss: 1.1024\n",
      "Epoch 7/10\n",
      "\u001b[1m115/115\u001b[0m \u001b[32m━━━━━━━━━━━━━━━━━━━━\u001b[0m\u001b[37m\u001b[0m \u001b[1m152s\u001b[0m 1s/step - accuracy: 0.8211 - loss: 0.4907 - val_accuracy: 0.6335 - val_loss: 0.9592\n",
      "Epoch 8/10\n",
      "\u001b[1m115/115\u001b[0m \u001b[32m━━━━━━━━━━━━━━━━━━━━\u001b[0m\u001b[37m\u001b[0m \u001b[1m154s\u001b[0m 1s/step - accuracy: 0.7728 - loss: 0.6582 - val_accuracy: 0.2921 - val_loss: 8.7893\n",
      "Epoch 9/10\n",
      "\u001b[1m115/115\u001b[0m \u001b[32m━━━━━━━━━━━━━━━━━━━━\u001b[0m\u001b[37m\u001b[0m \u001b[1m155s\u001b[0m 1s/step - accuracy: 0.8476 - loss: 0.4325 - val_accuracy: 0.5481 - val_loss: 1.6900\n",
      "Epoch 10/10\n",
      "\u001b[1m115/115\u001b[0m \u001b[32m━━━━━━━━━━━━━━━━━━━━\u001b[0m\u001b[37m\u001b[0m \u001b[1m151s\u001b[0m 1s/step - accuracy: 0.8506 - loss: 0.4294 - val_accuracy: 0.8348 - val_loss: 0.4564\n",
      "Fold 5\n",
      "Epoch 1/10\n",
      "\u001b[1m115/115\u001b[0m \u001b[32m━━━━━━━━━━━━━━━━━━━━\u001b[0m\u001b[37m\u001b[0m \u001b[1m191s\u001b[0m 1s/step - accuracy: 0.5325 - loss: 4.7954 - val_accuracy: 0.4556 - val_loss: 5.0562\n",
      "Epoch 2/10\n",
      "\u001b[1m115/115\u001b[0m \u001b[32m━━━━━━━━━━━━━━━━━━━━\u001b[0m\u001b[37m\u001b[0m \u001b[1m153s\u001b[0m 1s/step - accuracy: 0.7307 - loss: 0.8130 - val_accuracy: 0.6079 - val_loss: 0.8882\n",
      "Epoch 3/10\n",
      "\u001b[1m115/115\u001b[0m \u001b[32m━━━━━━━━━━━━━━━━━━━━\u001b[0m\u001b[37m\u001b[0m \u001b[1m151s\u001b[0m 1s/step - accuracy: 0.7754 - loss: 0.6335 - val_accuracy: 0.4907 - val_loss: 1.6634\n",
      "Epoch 4/10\n",
      "\u001b[1m115/115\u001b[0m \u001b[32m━━━━━━━━━━━━━━━━━━━━\u001b[0m\u001b[37m\u001b[0m \u001b[1m155s\u001b[0m 1s/step - accuracy: 0.7822 - loss: 0.5753 - val_accuracy: 0.6867 - val_loss: 0.8231\n",
      "Epoch 5/10\n",
      "\u001b[1m115/115\u001b[0m \u001b[32m━━━━━━━━━━━━━━━━━━━━\u001b[0m\u001b[37m\u001b[0m \u001b[1m160s\u001b[0m 1s/step - accuracy: 0.8327 - loss: 0.4746 - val_accuracy: 0.8499 - val_loss: 0.4988\n",
      "Epoch 6/10\n",
      "\u001b[1m115/115\u001b[0m \u001b[32m━━━━━━━━━━━━━━━━━━━━\u001b[0m\u001b[37m\u001b[0m \u001b[1m151s\u001b[0m 1s/step - accuracy: 0.8236 - loss: 0.4842 - val_accuracy: 0.7327 - val_loss: 0.6371\n",
      "Epoch 7/10\n",
      "\u001b[1m115/115\u001b[0m \u001b[32m━━━━━━━━━━━━━━━━━━━━\u001b[0m\u001b[37m\u001b[0m \u001b[1m150s\u001b[0m 1s/step - accuracy: 0.8303 - loss: 0.4762 - val_accuracy: 0.5323 - val_loss: 1.2986\n",
      "Epoch 8/10\n",
      "\u001b[1m115/115\u001b[0m \u001b[32m━━━━━━━━━━━━━━━━━━━━\u001b[0m\u001b[37m\u001b[0m \u001b[1m152s\u001b[0m 1s/step - accuracy: 0.8495 - loss: 0.4407 - val_accuracy: 0.8740 - val_loss: 0.4753\n",
      "Epoch 9/10\n",
      "\u001b[1m115/115\u001b[0m \u001b[32m━━━━━━━━━━━━━━━━━━━━\u001b[0m\u001b[37m\u001b[0m \u001b[1m150s\u001b[0m 1s/step - accuracy: 0.8692 - loss: 0.3747 - val_accuracy: 0.6594 - val_loss: 0.8463\n",
      "Epoch 10/10\n",
      "\u001b[1m115/115\u001b[0m \u001b[32m━━━━━━━━━━━━━━━━━━━━\u001b[0m\u001b[37m\u001b[0m \u001b[1m157s\u001b[0m 1s/step - accuracy: 0.8483 - loss: 0.3980 - val_accuracy: 0.8740 - val_loss: 0.4009\n"
     ]
    }
   ],
   "source": [
    "# Tamanho das imagens\n",
    "input_shape = (227, 227, 3)\n",
    "\n",
    "# Número de classes\n",
    "num_classes = len(label_encoder.classes_)\n",
    "\n",
    "# Função para pré-processar imagens\n",
    "def preprocess_image(image_path):\n",
    "    img = tf.keras.preprocessing.image.load_img(image_path, target_size=(227, 227))\n",
    "    img_array = tf.keras.preprocessing.image.img_to_array(img)\n",
    "    img_array = img_array / 255.0\n",
    "    return img_array\n",
    "\n",
    "# Função para pré-processar um lote de imagens\n",
    "def preprocess_images_in_batches(image_paths, batch_size=32):\n",
    "    images_processed = []\n",
    "    for i in range(0, len(image_paths), batch_size):\n",
    "        batch_paths = image_paths[i:i+batch_size]\n",
    "        batch_images = [preprocess_image(image_path) for image_path in batch_paths]\n",
    "        images_processed.extend(batch_images)\n",
    "    return np.array(images_processed)\n",
    "\n",
    "# Exibindo as informações dos dados\n",
    "batch_size = 32\n",
    "train_images_processed = preprocess_images_in_batches(train_images, batch_size=batch_size)\n",
    "val_images_processed = preprocess_images_in_batches(val_images, batch_size=batch_size)\n",
    "test_images_processed = preprocess_images_in_batches(test_images, batch_size=batch_size)\n",
    "\n",
    "# Definindo o modelo AlexNet\n",
    "def AlexNet(input_shape, num_classes):\n",
    "    model = models.Sequential()\n",
    "    \n",
    "    model.add(layers.Conv2D(96, kernel_size=(11, 11), strides=(4, 4), activation='relu', input_shape=input_shape))\n",
    "    model.add(layers.MaxPooling2D(pool_size=(3, 3), strides=(2, 2)))\n",
    "    model.add(layers.BatchNormalization())\n",
    "    \n",
    "    model.add(layers.Conv2D(256, kernel_size=(5, 5), padding='same', activation='relu'))\n",
    "    model.add(layers.MaxPooling2D(pool_size=(3, 3), strides=(2, 2)))\n",
    "    model.add(layers.BatchNormalization())\n",
    "    \n",
    "    model.add(layers.Conv2D(384, kernel_size=(3, 3), padding='same', activation='relu'))\n",
    "    model.add(layers.Conv2D(384, kernel_size=(3, 3), padding='same', activation='relu'))\n",
    "    model.add(layers.Conv2D(256, kernel_size=(3, 3), padding='same', activation='relu'))\n",
    "    model.add(layers.MaxPooling2D(pool_size=(3, 3), strides=(2, 2)))\n",
    "    model.add(layers.BatchNormalization())\n",
    "    \n",
    "    model.add(layers.Flatten())\n",
    "    \n",
    "    model.add(layers.Dense(4096, activation='relu'))\n",
    "    model.add(layers.Dropout(0.5))\n",
    "    model.add(layers.Dense(4096, activation='relu'))\n",
    "    model.add(layers.Dropout(0.5))\n",
    "    model.add(layers.Dense(num_classes, activation='softmax'))\n",
    "    \n",
    "    return model\n",
    "\n",
    "# Aplicando o K-Fold Cross Validation\n",
    "kfold = KFold(n_splits=5, shuffle=True, random_state=42)\n",
    "\n",
    "# Lista para armazenar as métricas de cada fold\n",
    "accuracy_per_fold = []\n",
    "\n",
    "# Iterando sobre os folds\n",
    "for fold, (train_indices, val_indices) in enumerate(kfold.split(train_images_processed)):\n",
    "    print(f\"Fold {fold + 1}\")\n",
    "    \n",
    "    # Separando os dados de treinamento e validação para este fold\n",
    "    fold_train_images = train_images_processed[train_indices]\n",
    "    fold_train_labels = train_labels_encoded[train_indices]\n",
    "    fold_val_images = train_images_processed[val_indices]\n",
    "    fold_val_labels = train_labels_encoded[val_indices]\n",
    "    \n",
    "    # Criando uma nova instância do modelo para cada fold\n",
    "    model = AlexNet(input_shape, num_classes)\n",
    "    \n",
    "    # Compilando o modelo\n",
    "    model.compile(optimizer='adam',\n",
    "                  loss='sparse_categorical_crossentropy',\n",
    "                  metrics=['accuracy'])\n",
    "    \n",
    "    # Treinando o modelo para este fold\n",
    "    model.fit(x=fold_train_images, y=fold_train_labels, validation_data=(fold_val_images, fold_val_labels), epochs=10, batch_size=32)"
   ]
  },
  {
   "cell_type": "code",
   "execution_count": 9,
   "metadata": {},
   "outputs": [
    {
     "name": "stdout",
     "output_type": "stream",
     "text": [
      "Epoch 1/10\n",
      "\u001b[1m115/115\u001b[0m \u001b[32m━━━━━━━━━━━━━━━━━━━━\u001b[0m\u001b[37m\u001b[0m \u001b[1m178s\u001b[0m 1s/step - accuracy: 0.5384 - loss: 6.0490 - val_accuracy: 0.1958 - val_loss: 12.4537\n",
      "Epoch 2/10\n",
      "\u001b[1m115/115\u001b[0m \u001b[32m━━━━━━━━━━━━━━━━━━━━\u001b[0m\u001b[37m\u001b[0m \u001b[1m155s\u001b[0m 1s/step - accuracy: 0.6121 - loss: 1.0913 - val_accuracy: 0.5733 - val_loss: 1.1762\n",
      "Epoch 3/10\n",
      "\u001b[1m115/115\u001b[0m \u001b[32m━━━━━━━━━━━━━━━━━━━━\u001b[0m\u001b[37m\u001b[0m \u001b[1m153s\u001b[0m 1s/step - accuracy: 0.7183 - loss: 0.7936 - val_accuracy: 0.5766 - val_loss: 1.0180\n",
      "Epoch 4/10\n",
      "\u001b[1m115/115\u001b[0m \u001b[32m━━━━━━━━━━━━━━━━━━━━\u001b[0m\u001b[37m\u001b[0m \u001b[1m153s\u001b[0m 1s/step - accuracy: 0.7332 - loss: 0.7488 - val_accuracy: 0.7757 - val_loss: 0.5717\n",
      "Epoch 5/10\n",
      "\u001b[1m115/115\u001b[0m \u001b[32m━━━━━━━━━━━━━━━━━━━━\u001b[0m\u001b[37m\u001b[0m \u001b[1m153s\u001b[0m 1s/step - accuracy: 0.7701 - loss: 0.6583 - val_accuracy: 0.6937 - val_loss: 0.7486\n",
      "Epoch 6/10\n",
      "\u001b[1m115/115\u001b[0m \u001b[32m━━━━━━━━━━━━━━━━━━━━\u001b[0m\u001b[37m\u001b[0m \u001b[1m153s\u001b[0m 1s/step - accuracy: 0.8070 - loss: 0.5717 - val_accuracy: 0.7462 - val_loss: 0.6232\n",
      "Epoch 7/10\n",
      "\u001b[1m115/115\u001b[0m \u001b[32m━━━━━━━━━━━━━━━━━━━━\u001b[0m\u001b[37m\u001b[0m \u001b[1m153s\u001b[0m 1s/step - accuracy: 0.8174 - loss: 0.5414 - val_accuracy: 0.2757 - val_loss: 9.6652\n",
      "Epoch 8/10\n",
      "\u001b[1m115/115\u001b[0m \u001b[32m━━━━━━━━━━━━━━━━━━━━\u001b[0m\u001b[37m\u001b[0m \u001b[1m153s\u001b[0m 1s/step - accuracy: 0.7988 - loss: 0.5944 - val_accuracy: 0.7396 - val_loss: 0.6755\n",
      "Epoch 9/10\n",
      "\u001b[1m115/115\u001b[0m \u001b[32m━━━━━━━━━━━━━━━━━━━━\u001b[0m\u001b[37m\u001b[0m \u001b[1m152s\u001b[0m 1s/step - accuracy: 0.8303 - loss: 0.5203 - val_accuracy: 0.6007 - val_loss: 0.9948\n",
      "Epoch 10/10\n",
      "\u001b[1m115/115\u001b[0m \u001b[32m━━━━━━━━━━━━━━━━━━━━\u001b[0m\u001b[37m\u001b[0m \u001b[1m153s\u001b[0m 1s/step - accuracy: 0.8625 - loss: 0.4093 - val_accuracy: 0.2757 - val_loss: 28.9323\n"
     ]
    },
    {
     "data": {
      "text/plain": [
       "<keras.src.callbacks.history.History at 0x23ee3bdaff0>"
      ]
     },
     "execution_count": 9,
     "metadata": {},
     "output_type": "execute_result"
    }
   ],
   "source": [
    "# Definindo o modelo AlexNet\n",
    "def AlexNet(input_shape, num_classes):\n",
    "    model = models.Sequential()\n",
    "    \n",
    "    model.add(layers.Conv2D(96, kernel_size=(11, 11), strides=(4, 4), activation='relu', input_shape=input_shape))\n",
    "    model.add(layers.MaxPooling2D(pool_size=(3, 3), strides=(2, 2)))\n",
    "    model.add(layers.BatchNormalization())\n",
    "    \n",
    "    model.add(layers.Conv2D(256, kernel_size=(5, 5), padding='same', activation='relu'))\n",
    "    model.add(layers.MaxPooling2D(pool_size=(3, 3), strides=(2, 2)))\n",
    "    model.add(layers.BatchNormalization())\n",
    "    \n",
    "    model.add(layers.Conv2D(384, kernel_size=(3, 3), padding='same', activation='relu'))\n",
    "    model.add(layers.Conv2D(384, kernel_size=(3, 3), padding='same', activation='relu'))\n",
    "    model.add(layers.Conv2D(256, kernel_size=(3, 3), padding='same', activation='relu'))\n",
    "    model.add(layers.MaxPooling2D(pool_size=(3, 3), strides=(2, 2)))\n",
    "    model.add(layers.BatchNormalization())\n",
    "    \n",
    "    model.add(layers.Flatten())\n",
    "    \n",
    "    model.add(layers.Dense(4096, activation='relu'))\n",
    "    model.add(layers.Dropout(0.5))\n",
    "    model.add(layers.Dense(4096, activation='relu'))\n",
    "    model.add(layers.Dropout(0.5))\n",
    "    model.add(layers.Dense(num_classes, activation='softmax'))\n",
    "    \n",
    "    return model\n",
    "\n",
    "# Divisão dos dados de acordo com o fold escolhido\n",
    "kfold = KFold(n_splits=5, shuffle=True, random_state=42)\n",
    "\n",
    "chosen_fold = 1\n",
    "\n",
    "for fold, (train_indices, val_indices) in enumerate(kfold.split(train_images_processed)):\n",
    "    if fold == chosen_fold:\n",
    "        fold_train_images = train_images_processed[train_indices]\n",
    "        fold_train_labels = train_labels_encoded[train_indices]\n",
    "        fold_val_images = train_images_processed[val_indices]\n",
    "        fold_val_labels = train_labels_encoded[val_indices]\n",
    "        break\n",
    "\n",
    "# Criando uma nova instância do modelo AlexNet\n",
    "model = AlexNet(input_shape=(227, 227, 3), num_classes=num_classes)\n",
    "\n",
    "# Compilando o modelo\n",
    "model.compile(optimizer='adam',\n",
    "              loss='sparse_categorical_crossentropy',\n",
    "              metrics=['accuracy'])\n",
    "\n",
    "# Treinando o modelo com os dados do fold escolhido\n",
    "model.fit(x=fold_train_images, y=fold_train_labels,\n",
    "          validation_data=(fold_val_images, fold_val_labels),\n",
    "          epochs=10, batch_size=32)"
   ]
  },
  {
   "cell_type": "code",
   "execution_count": 10,
   "metadata": {},
   "outputs": [],
   "source": [
    "# Salvar o modelo treinado\n",
    "model.save('AlexNetKfold_model.keras')"
   ]
  },
  {
   "cell_type": "code",
   "execution_count": 4,
   "metadata": {},
   "outputs": [],
   "source": [
    "# Carregar o modelo treinado\n",
    "AlexNetKfold = load_model(\"AlexNetKfold_model.keras\")"
   ]
  },
  {
   "cell_type": "code",
   "execution_count": 14,
   "metadata": {},
   "outputs": [
    {
     "name": "stdout",
     "output_type": "stream",
     "text": [
      "\u001b[1m1/1\u001b[0m \u001b[32m━━━━━━━━━━━━━━━━━━━━\u001b[0m\u001b[37m\u001b[0m \u001b[1m0s\u001b[0m 118ms/step\n",
      "Classe Notumor: 2\n"
     ]
    }
   ],
   "source": [
    "# Carregando a imagem que para classificar\n",
    "img_path = r\"C:\\Users\\Willi\\OneDrive\\Área de Trabalho\\tcc\\archive (2)\\Testing\\glioma\\Te-gl_0019.jpg\"\n",
    "img = image.load_img(img_path, target_size=(227, 227))\n",
    "img_array = image.img_to_array(img)\n",
    "img_array = img_array / 255.0\n",
    "\n",
    "# Adicionando uma dimensão extra para se adequar ao formato esperado pelo modelo\n",
    "img_array = np.expand_dims(img_array, axis=0)\n",
    "\n",
    "# Fazendo a previsão usando o modelo\n",
    "predictions = AlexNetKfold.predict(img_array)\n",
    "\n",
    "# Índice com maior probabilidade\n",
    "predicted_class = np.argmax(predictions)\n",
    "\n",
    "# Classe prevista\n",
    "if predicted_class == 0:\n",
    "    print(\"Classe Glioma:\", predicted_class)\n",
    "elif predicted_class == 1:\n",
    "    print(\"Classe Meningioma:\", predicted_class)\n",
    "elif predicted_class == 2:\n",
    "    print(\"Classe Notumor:\", predicted_class)\n",
    "elif predicted_class == 3:\n",
    "    print(\"Classe Pituary:\", predicted_class)\n",
    "else:\n",
    "    print('Classe não encontrada')"
   ]
  },
  {
   "cell_type": "markdown",
   "metadata": {},
   "source": [
    "## Análise da acurácia"
   ]
  },
  {
   "cell_type": "code",
   "execution_count": 12,
   "metadata": {},
   "outputs": [
    {
     "name": "stdout",
     "output_type": "stream",
     "text": [
      "\u001b[1m143/143\u001b[0m \u001b[32m━━━━━━━━━━━━━━━━━━━━\u001b[0m\u001b[37m\u001b[0m \u001b[1m63s\u001b[0m 377ms/step\n",
      "Acurácia (Training): 0.2856204858831254\n"
     ]
    }
   ],
   "source": [
    "# Fazer previsões usando o modelo AlexNet nos dados de treinamento\n",
    "train_predictions = AlexNetKfold.predict(train_images_processed)\n",
    "train_predictions_classes = np.argmax(train_predictions, axis=1)\n",
    "\n",
    "# Calcular a acurácia\n",
    "accuracy_train = accuracy_score(train_labels, train_predictions_classes)\n",
    "print(\"Acurácia (Training):\", accuracy_train)"
   ]
  },
  {
   "cell_type": "code",
   "execution_count": 13,
   "metadata": {},
   "outputs": [
    {
     "data": {
      "image/png": "[encoded data removed]",
      "text/plain": [
       "<Figure size 800x600 with 1 Axes>"
      ]
     },
     "metadata": {},
     "output_type": "display_data"
    }
   ],
   "source": [
    "# Matriz de confusão\n",
    "conf_matrix = confusion_matrix(train_labels, train_predictions_classes)\n",
    "\n",
    "# Exibir a matriz de confusão\n",
    "plt.figure(figsize=(8, 6))\n",
    "sns.heatmap(conf_matrix, annot=True, fmt='g', cmap='Blues', cbar=False)\n",
    "plt.xlabel('Predicted labels')\n",
    "plt.ylabel('True labels')\n",
    "plt.title('Confusion Matrix (Training)')\n",
    "plt.show()"
   ]
  },
  {
   "cell_type": "code",
   "execution_count": 14,
   "metadata": {},
   "outputs": [
    {
     "name": "stdout",
     "output_type": "stream",
     "text": [
      "Relatório de Classificação:\n",
      "              precision    recall  f1-score   support\n",
      "\n",
      "      glioma       1.00      0.00      0.00      1033\n",
      "  meningioma       0.00      0.00      0.00      1074\n",
      "     notumor       0.29      1.00      0.44      1304\n",
      "   pituitary       0.00      0.00      0.00      1158\n",
      "\n",
      "    accuracy                           0.29      4569\n",
      "   macro avg       0.32      0.25      0.11      4569\n",
      "weighted avg       0.31      0.29      0.13      4569\n",
      "\n"
     ]
    },
    {
     "name": "stderr",
     "output_type": "stream",
     "text": [
      "c:\\Users\\Willi\\AppData\\Local\\Programs\\Python\\Python312\\Lib\\site-packages\\sklearn\\metrics\\_classification.py:1509: UndefinedMetricWarning: Precision is ill-defined and being set to 0.0 in labels with no predicted samples. Use `zero_division` parameter to control this behavior.\n",
      "  _warn_prf(average, modifier, f\"{metric.capitalize()} is\", len(result))\n",
      "c:\\Users\\Willi\\AppData\\Local\\Programs\\Python\\Python312\\Lib\\site-packages\\sklearn\\metrics\\_classification.py:1509: UndefinedMetricWarning: Precision is ill-defined and being set to 0.0 in labels with no predicted samples. Use `zero_division` parameter to control this behavior.\n",
      "  _warn_prf(average, modifier, f\"{metric.capitalize()} is\", len(result))\n",
      "c:\\Users\\Willi\\AppData\\Local\\Programs\\Python\\Python312\\Lib\\site-packages\\sklearn\\metrics\\_classification.py:1509: UndefinedMetricWarning: Precision is ill-defined and being set to 0.0 in labels with no predicted samples. Use `zero_division` parameter to control this behavior.\n",
      "  _warn_prf(average, modifier, f\"{metric.capitalize()} is\", len(result))\n"
     ]
    }
   ],
   "source": [
    "# Precisão, recall e F1-score\n",
    "report = classification_report(train_labels, train_predictions_classes, target_names=label_encoder.classes_)\n",
    "print(\"Relatório de Classificação:\")\n",
    "print(report)"
   ]
  },
  {
   "cell_type": "markdown",
   "metadata": {},
   "source": [
    "# ResNet"
   ]
  },
  {
   "cell_type": "markdown",
   "metadata": {},
   "source": [
    "## Criação do modelo"
   ]
  },
  {
   "cell_type": "code",
   "execution_count": 17,
   "metadata": {},
   "outputs": [
    {
     "name": "stdout",
     "output_type": "stream",
     "text": [
      "Número de imagens de treinamento: 4569\n",
      "Número de imagens de validação: 1143\n",
      "Número de imagens de teste: 1311\n"
     ]
    }
   ],
   "source": [
    "# Diretório que contém as pastas Training e Testing\n",
    "data_dir = r'C:\\Users\\Willi\\OneDrive\\Área de Trabalho\\tcc\\archive (2)'\n",
    "\n",
    "# Listando os diretórios de treinamento e teste\n",
    "train_dir = os.path.join(data_dir, 'Training')\n",
    "test_dir = os.path.join(data_dir, 'Testing')\n",
    "\n",
    "# Carregando as imagens e retornando os caminhos dos arquivos e rótulos\n",
    "def load_images_from_directory(directory):\n",
    "    images = []\n",
    "    labels = []\n",
    "    for label in os.listdir(directory):\n",
    "        label_dir = os.path.join(directory, label)\n",
    "        for img_file in os.listdir(label_dir):\n",
    "            img_path = os.path.join(label_dir, img_file)\n",
    "            images.append(img_path)\n",
    "            labels.append(label)\n",
    "    return images, labels\n",
    "\n",
    "# Carregando imagens e rótulos de treinamento\n",
    "train_images, train_labels = load_images_from_directory(train_dir)\n",
    "\n",
    "# Carregando imagens e rótulos de teste\n",
    "test_images, test_labels = load_images_from_directory(test_dir)\n",
    "\n",
    "# Dividindo os dados de treinamento em treinamento e validação\n",
    "train_images, val_images, train_labels, val_labels = train_test_split(train_images, train_labels, test_size=0.2, random_state=42)\n",
    "\n",
    "# Codificando os rótulos com LabelEncoder\n",
    "label_encoder = LabelEncoder()\n",
    "train_labels_encoded = label_encoder.fit_transform(train_labels)\n",
    "val_labels_encoded = label_encoder.transform(val_labels)\n",
    "\n",
    "# Convertendo rótulos para tipo inteiro\n",
    "train_labels = train_labels_encoded.astype(int)\n",
    "val_labels = val_labels_encoded.astype(int)\n",
    "\n",
    "# Exibindo as informações dos dados\n",
    "print(\"Número de imagens de treinamento:\", len(train_images))\n",
    "print(\"Número de imagens de validação:\", len(val_images))\n",
    "print(\"Número de imagens de teste:\", len(test_images))"
   ]
  },
  {
   "cell_type": "code",
   "execution_count": 18,
   "metadata": {},
   "outputs": [
    {
     "name": "stdout",
     "output_type": "stream",
     "text": [
      "Formato das imagens de validação: (1143, 224, 224, 3)\n",
      "Tipo das imagens de validação: float32\n"
     ]
    }
   ],
   "source": [
    "def load_and_preprocess_images_for_resnet(image_paths):\n",
    "    processed_images = []\n",
    "    for img_path in image_paths:\n",
    "        img = load_img(img_path, target_size=(224, 224))\n",
    "        img_array = img_to_array(img)\n",
    "        img_array = tf.keras.applications.resnet50.preprocess_input(img_array)\n",
    "        processed_images.append(img_array)\n",
    "    return np.array(processed_images)\n",
    "\n",
    "train_images_processed = load_and_preprocess_images_for_resnet(train_images)\n",
    "val_images_processed = load_and_preprocess_images_for_resnet(val_images)\n",
    "\n",
    "print(\"Formato das imagens de validação:\", val_images_processed.shape)\n",
    "print(\"Tipo das imagens de validação:\", val_images_processed.dtype)"
   ]
  },
  {
   "cell_type": "code",
   "execution_count": 5,
   "metadata": {},
   "outputs": [
    {
     "name": "stdout",
     "output_type": "stream",
     "text": [
      "Fold 1\n",
      "Epoch 1/10\n",
      "\u001b[1m143/143\u001b[0m \u001b[32m━━━━━━━━━━━━━━━━━━━━\u001b[0m\u001b[37m\u001b[0m \u001b[1m520s\u001b[0m 3s/step - accuracy: 0.6217 - loss: 1.2510 - val_accuracy: 0.2546 - val_loss: 2273.3464\n",
      "Epoch 2/10\n",
      "\u001b[1m143/143\u001b[0m \u001b[32m━━━━━━━━━━━━━━━━━━━━\u001b[0m\u001b[37m\u001b[0m \u001b[1m490s\u001b[0m 3s/step - accuracy: 0.7699 - loss: 0.6218 - val_accuracy: 0.4339 - val_loss: 3.8055\n",
      "Epoch 3/10\n",
      "\u001b[1m143/143\u001b[0m \u001b[32m━━━━━━━━━━━━━━━━━━━━\u001b[0m\u001b[37m\u001b[0m \u001b[1m488s\u001b[0m 3s/step - accuracy: 0.8328 - loss: 0.4478 - val_accuracy: 0.4322 - val_loss: 4.0828\n",
      "Epoch 4/10\n",
      "\u001b[1m143/143\u001b[0m \u001b[32m━━━━━━━━━━━━━━━━━━━━\u001b[0m\u001b[37m\u001b[0m \u001b[1m486s\u001b[0m 3s/step - accuracy: 0.8460 - loss: 0.4055 - val_accuracy: 0.3605 - val_loss: 4.8949\n",
      "Epoch 5/10\n",
      "\u001b[1m143/143\u001b[0m \u001b[32m━━━━━━━━━━━━━━━━━━━━\u001b[0m\u001b[37m\u001b[0m \u001b[1m490s\u001b[0m 3s/step - accuracy: 0.8226 - loss: 0.4562 - val_accuracy: 0.5538 - val_loss: 3.2118\n",
      "Epoch 6/10\n",
      "\u001b[1m143/143\u001b[0m \u001b[32m━━━━━━━━━━━━━━━━━━━━\u001b[0m\u001b[37m\u001b[0m \u001b[1m487s\u001b[0m 3s/step - accuracy: 0.8861 - loss: 0.3194 - val_accuracy: 0.3701 - val_loss: 1.9925\n",
      "Epoch 7/10\n",
      "\u001b[1m143/143\u001b[0m \u001b[32m━━━━━━━━━━━━━━━━━━━━\u001b[0m\u001b[37m\u001b[0m \u001b[1m486s\u001b[0m 3s/step - accuracy: 0.8814 - loss: 0.3171 - val_accuracy: 0.4934 - val_loss: 1.5413\n",
      "Epoch 8/10\n",
      "\u001b[1m143/143\u001b[0m \u001b[32m━━━━━━━━━━━━━━━━━━━━\u001b[0m\u001b[37m\u001b[0m \u001b[1m487s\u001b[0m 3s/step - accuracy: 0.9031 - loss: 0.2526 - val_accuracy: 0.6308 - val_loss: 1.2466\n",
      "Epoch 9/10\n",
      "\u001b[1m143/143\u001b[0m \u001b[32m━━━━━━━━━━━━━━━━━━━━\u001b[0m\u001b[37m\u001b[0m \u001b[1m489s\u001b[0m 3s/step - accuracy: 0.9128 - loss: 0.2322 - val_accuracy: 0.8093 - val_loss: 0.4787\n",
      "Epoch 10/10\n",
      "\u001b[1m143/143\u001b[0m \u001b[32m━━━━━━━━━━━━━━━━━━━━\u001b[0m\u001b[37m\u001b[0m \u001b[1m483s\u001b[0m 3s/step - accuracy: 0.9330 - loss: 0.1860 - val_accuracy: 0.7402 - val_loss: 0.8570\n",
      "Fold 2\n",
      "Epoch 1/10\n",
      "\u001b[1m143/143\u001b[0m \u001b[32m━━━━━━━━━━━━━━━━━━━━\u001b[0m\u001b[37m\u001b[0m \u001b[1m519s\u001b[0m 3s/step - accuracy: 0.6314 - loss: 1.2225 - val_accuracy: 0.2546 - val_loss: 3382.2273\n",
      "Epoch 2/10\n",
      "\u001b[1m143/143\u001b[0m \u001b[32m━━━━━━━━━━━━━━━━━━━━\u001b[0m\u001b[37m\u001b[0m \u001b[1m490s\u001b[0m 3s/step - accuracy: 0.7879 - loss: 0.5611 - val_accuracy: 0.2546 - val_loss: 57.4086\n",
      "Epoch 3/10\n",
      "\u001b[1m143/143\u001b[0m \u001b[32m━━━━━━━━━━━━━━━━━━━━\u001b[0m\u001b[37m\u001b[0m \u001b[1m490s\u001b[0m 3s/step - accuracy: 0.8103 - loss: 0.5526 - val_accuracy: 0.3500 - val_loss: 6.1959\n",
      "Epoch 4/10\n",
      "\u001b[1m143/143\u001b[0m \u001b[32m━━━━━━━━━━━━━━━━━━━━\u001b[0m\u001b[37m\u001b[0m \u001b[1m487s\u001b[0m 3s/step - accuracy: 0.8405 - loss: 0.4288 - val_accuracy: 0.4182 - val_loss: 2.3564\n",
      "Epoch 5/10\n",
      "\u001b[1m143/143\u001b[0m \u001b[32m━━━━━━━━━━━━━━━━━━━━\u001b[0m\u001b[37m\u001b[0m \u001b[1m489s\u001b[0m 3s/step - accuracy: 0.8789 - loss: 0.3363 - val_accuracy: 0.6369 - val_loss: 1.2819\n",
      "Epoch 6/10\n",
      "\u001b[1m143/143\u001b[0m \u001b[32m━━━━━━━━━━━━━━━━━━━━\u001b[0m\u001b[37m\u001b[0m \u001b[1m488s\u001b[0m 3s/step - accuracy: 0.9127 - loss: 0.2459 - val_accuracy: 0.6667 - val_loss: 1.5238\n",
      "Epoch 7/10\n",
      "\u001b[1m143/143\u001b[0m \u001b[32m━━━━━━━━━━━━━━━━━━━━\u001b[0m\u001b[37m\u001b[0m \u001b[1m516s\u001b[0m 4s/step - accuracy: 0.9319 - loss: 0.1850 - val_accuracy: 0.3806 - val_loss: 4.3986\n",
      "Epoch 8/10\n",
      "\u001b[1m143/143\u001b[0m \u001b[32m━━━━━━━━━━━━━━━━━━━━\u001b[0m\u001b[37m\u001b[0m \u001b[1m510s\u001b[0m 4s/step - accuracy: 0.9287 - loss: 0.2040 - val_accuracy: 0.8443 - val_loss: 0.5032\n",
      "Epoch 9/10\n",
      "\u001b[1m143/143\u001b[0m \u001b[32m━━━━━━━━━━━━━━━━━━━━\u001b[0m\u001b[37m\u001b[0m \u001b[1m508s\u001b[0m 4s/step - accuracy: 0.9432 - loss: 0.1629 - val_accuracy: 0.2555 - val_loss: 21.8946\n",
      "Epoch 10/10\n",
      "\u001b[1m143/143\u001b[0m \u001b[32m━━━━━━━━━━━━━━━━━━━━\u001b[0m\u001b[37m\u001b[0m \u001b[1m510s\u001b[0m 4s/step - accuracy: 0.9345 - loss: 0.1725 - val_accuracy: 0.7454 - val_loss: 0.9041\n",
      "Fold 3\n",
      "Epoch 1/10\n",
      "\u001b[1m143/143\u001b[0m \u001b[32m━━━━━━━━━━━━━━━━━━━━\u001b[0m\u001b[37m\u001b[0m \u001b[1m570s\u001b[0m 4s/step - accuracy: 0.6217 - loss: 1.3035 - val_accuracy: 0.2546 - val_loss: 16783.2188\n",
      "Epoch 2/10\n",
      "\u001b[1m143/143\u001b[0m \u001b[32m━━━━━━━━━━━━━━━━━━━━\u001b[0m\u001b[37m\u001b[0m \u001b[1m508s\u001b[0m 4s/step - accuracy: 0.7328 - loss: 0.7037 - val_accuracy: 0.5171 - val_loss: 1.5134\n",
      "Epoch 3/10\n",
      "\u001b[1m143/143\u001b[0m \u001b[32m━━━━━━━━━━━━━━━━━━━━\u001b[0m\u001b[37m\u001b[0m \u001b[1m507s\u001b[0m 4s/step - accuracy: 0.8043 - loss: 0.5185 - val_accuracy: 0.5766 - val_loss: 1.6491\n",
      "Epoch 4/10\n",
      "\u001b[1m143/143\u001b[0m \u001b[32m━━━━━━━━━━━━━━━━━━━━\u001b[0m\u001b[37m\u001b[0m \u001b[1m501s\u001b[0m 4s/step - accuracy: 0.8321 - loss: 0.4485 - val_accuracy: 0.6894 - val_loss: 0.8129\n",
      "Epoch 5/10\n",
      "\u001b[1m143/143\u001b[0m \u001b[32m━━━━━━━━━━━━━━━━━━━━\u001b[0m\u001b[37m\u001b[0m \u001b[1m495s\u001b[0m 3s/step - accuracy: 0.8433 - loss: 0.4358 - val_accuracy: 0.2546 - val_loss: 6.6826\n",
      "Epoch 6/10\n",
      "\u001b[1m143/143\u001b[0m \u001b[32m━━━━━━━━━━━━━━━━━━━━\u001b[0m\u001b[37m\u001b[0m \u001b[1m487s\u001b[0m 3s/step - accuracy: 0.8841 - loss: 0.3273 - val_accuracy: 0.4208 - val_loss: 4.2160\n",
      "Epoch 7/10\n",
      "\u001b[1m143/143\u001b[0m \u001b[32m━━━━━━━━━━━━━━━━━━━━\u001b[0m\u001b[37m\u001b[0m \u001b[1m484s\u001b[0m 3s/step - accuracy: 0.8965 - loss: 0.2884 - val_accuracy: 0.7043 - val_loss: 0.7134\n",
      "Epoch 8/10\n",
      "\u001b[1m143/143\u001b[0m \u001b[32m━━━━━━━━━━━━━━━━━━━━\u001b[0m\u001b[37m\u001b[0m \u001b[1m486s\u001b[0m 3s/step - accuracy: 0.9189 - loss: 0.2347 - val_accuracy: 0.4506 - val_loss: 4.9401\n",
      "Epoch 9/10\n",
      "\u001b[1m143/143\u001b[0m \u001b[32m━━━━━━━━━━━━━━━━━━━━\u001b[0m\u001b[37m\u001b[0m \u001b[1m488s\u001b[0m 3s/step - accuracy: 0.9080 - loss: 0.2547 - val_accuracy: 0.7393 - val_loss: 0.9528\n",
      "Epoch 10/10\n",
      "\u001b[1m143/143\u001b[0m \u001b[32m━━━━━━━━━━━━━━━━━━━━\u001b[0m\u001b[37m\u001b[0m \u001b[1m484s\u001b[0m 3s/step - accuracy: 0.9349 - loss: 0.1882 - val_accuracy: 0.8863 - val_loss: 0.3064\n",
      "Fold 4\n",
      "Epoch 1/10\n",
      "\u001b[1m143/143\u001b[0m \u001b[32m━━━━━━━━━━━━━━━━━━━━\u001b[0m\u001b[37m\u001b[0m \u001b[1m515s\u001b[0m 3s/step - accuracy: 0.6170 - loss: 1.3872 - val_accuracy: 0.2546 - val_loss: 1264.2195\n",
      "Epoch 2/10\n",
      "\u001b[1m143/143\u001b[0m \u001b[32m━━━━━━━━━━━━━━━━━━━━\u001b[0m\u001b[37m\u001b[0m \u001b[1m486s\u001b[0m 3s/step - accuracy: 0.7570 - loss: 0.6339 - val_accuracy: 0.4094 - val_loss: 2.0979\n",
      "Epoch 3/10\n",
      "\u001b[1m143/143\u001b[0m \u001b[32m━━━━━━━━━━━━━━━━━━━━\u001b[0m\u001b[37m\u001b[0m \u001b[1m487s\u001b[0m 3s/step - accuracy: 0.8186 - loss: 0.4699 - val_accuracy: 0.3920 - val_loss: 5.8841\n",
      "Epoch 4/10\n",
      "\u001b[1m143/143\u001b[0m \u001b[32m━━━━━━━━━━━━━━━━━━━━\u001b[0m\u001b[37m\u001b[0m \u001b[1m492s\u001b[0m 3s/step - accuracy: 0.8289 - loss: 0.4592 - val_accuracy: 0.7655 - val_loss: 0.6528\n",
      "Epoch 5/10\n",
      "\u001b[1m143/143\u001b[0m \u001b[32m━━━━━━━━━━━━━━━━━━━━\u001b[0m\u001b[37m\u001b[0m \u001b[1m487s\u001b[0m 3s/step - accuracy: 0.8765 - loss: 0.3527 - val_accuracy: 0.7410 - val_loss: 0.7446\n",
      "Epoch 6/10\n",
      "\u001b[1m143/143\u001b[0m \u001b[32m━━━━━━━━━━━━━━━━━━━━\u001b[0m\u001b[37m\u001b[0m \u001b[1m488s\u001b[0m 3s/step - accuracy: 0.8907 - loss: 0.3153 - val_accuracy: 0.8600 - val_loss: 0.5371\n",
      "Epoch 7/10\n",
      "\u001b[1m143/143\u001b[0m \u001b[32m━━━━━━━━━━━━━━━━━━━━\u001b[0m\u001b[37m\u001b[0m \u001b[1m486s\u001b[0m 3s/step - accuracy: 0.9021 - loss: 0.2634 - val_accuracy: 0.8618 - val_loss: 0.4285\n",
      "Epoch 8/10\n",
      "\u001b[1m143/143\u001b[0m \u001b[32m━━━━━━━━━━━━━━━━━━━━\u001b[0m\u001b[37m\u001b[0m \u001b[1m487s\u001b[0m 3s/step - accuracy: 0.9309 - loss: 0.1849 - val_accuracy: 0.5853 - val_loss: 2.2900\n",
      "Epoch 9/10\n",
      "\u001b[1m143/143\u001b[0m \u001b[32m━━━━━━━━━━━━━━━━━━━━\u001b[0m\u001b[37m\u001b[0m \u001b[1m488s\u001b[0m 3s/step - accuracy: 0.9273 - loss: 0.2024 - val_accuracy: 0.9090 - val_loss: 0.2759\n",
      "Epoch 10/10\n",
      "\u001b[1m143/143\u001b[0m \u001b[32m━━━━━━━━━━━━━━━━━━━━\u001b[0m\u001b[37m\u001b[0m \u001b[1m488s\u001b[0m 3s/step - accuracy: 0.9524 - loss: 0.1437 - val_accuracy: 0.4707 - val_loss: 6.6691\n",
      "Fold 5\n",
      "Epoch 1/10\n",
      "\u001b[1m143/143\u001b[0m \u001b[32m━━━━━━━━━━━━━━━━━━━━\u001b[0m\u001b[37m\u001b[0m \u001b[1m535s\u001b[0m 3s/step - accuracy: 0.5829 - loss: 1.3656 - val_accuracy: 0.2546 - val_loss: 2069.0850\n",
      "Epoch 2/10\n",
      "\u001b[1m143/143\u001b[0m \u001b[32m━━━━━━━━━━━━━━━━━━━━\u001b[0m\u001b[37m\u001b[0m \u001b[1m484s\u001b[0m 3s/step - accuracy: 0.7766 - loss: 0.5843 - val_accuracy: 0.5836 - val_loss: 1.0065\n",
      "Epoch 3/10\n",
      "\u001b[1m143/143\u001b[0m \u001b[32m━━━━━━━━━━━━━━━━━━━━\u001b[0m\u001b[37m\u001b[0m \u001b[1m485s\u001b[0m 3s/step - accuracy: 0.8306 - loss: 0.4524 - val_accuracy: 0.8303 - val_loss: 0.4612\n",
      "Epoch 4/10\n",
      "\u001b[1m143/143\u001b[0m \u001b[32m━━━━━━━━━━━━━━━━━━━━\u001b[0m\u001b[37m\u001b[0m \u001b[1m482s\u001b[0m 3s/step - accuracy: 0.8611 - loss: 0.3855 - val_accuracy: 0.7542 - val_loss: 0.6918\n",
      "Epoch 5/10\n",
      "\u001b[1m143/143\u001b[0m \u001b[32m━━━━━━━━━━━━━━━━━━━━\u001b[0m\u001b[37m\u001b[0m \u001b[1m483s\u001b[0m 3s/step - accuracy: 0.8692 - loss: 0.3527 - val_accuracy: 0.5136 - val_loss: 1.6047\n",
      "Epoch 6/10\n",
      "\u001b[1m143/143\u001b[0m \u001b[32m━━━━━━━━━━━━━━━━━━━━\u001b[0m\u001b[37m\u001b[0m \u001b[1m483s\u001b[0m 3s/step - accuracy: 0.8940 - loss: 0.3013 - val_accuracy: 0.8154 - val_loss: 0.5076\n",
      "Epoch 7/10\n",
      "\u001b[1m143/143\u001b[0m \u001b[32m━━━━━━━━━━━━━━━━━━━━\u001b[0m\u001b[37m\u001b[0m \u001b[1m482s\u001b[0m 3s/step - accuracy: 0.8962 - loss: 0.2768 - val_accuracy: 0.6772 - val_loss: 1.0288\n",
      "Epoch 8/10\n",
      "\u001b[1m143/143\u001b[0m \u001b[32m━━━━━━━━━━━━━━━━━━━━\u001b[0m\u001b[37m\u001b[0m \u001b[1m486s\u001b[0m 3s/step - accuracy: 0.9118 - loss: 0.2573 - val_accuracy: 0.9090 - val_loss: 0.3215\n",
      "Epoch 9/10\n",
      "\u001b[1m143/143\u001b[0m \u001b[32m━━━━━━━━━━━━━━━━━━━━\u001b[0m\u001b[37m\u001b[0m \u001b[1m486s\u001b[0m 3s/step - accuracy: 0.9368 - loss: 0.1862 - val_accuracy: 0.8968 - val_loss: 0.3304\n",
      "Epoch 10/10\n",
      "\u001b[1m143/143\u001b[0m \u001b[32m━━━━━━━━━━━━━━━━━━━━\u001b[0m\u001b[37m\u001b[0m \u001b[1m485s\u001b[0m 3s/step - accuracy: 0.9460 - loss: 0.1560 - val_accuracy: 0.7682 - val_loss: 0.7593\n"
     ]
    }
   ],
   "source": [
    "def ResidualBlock(x, filters, kernel_size=3, strides=1, activation='relu'):\n",
    "    y = layers.Conv2D(filters, kernel_size=kernel_size, strides=strides, padding='same')(x)\n",
    "    y = layers.BatchNormalization()(y)\n",
    "    y = layers.Activation(activation)(y)\n",
    "    \n",
    "    y = layers.Conv2D(filters, kernel_size=kernel_size, strides=1, padding='same')(y)\n",
    "    y = layers.BatchNormalization()(y)\n",
    "    \n",
    "    if strides != 1 or x.shape[-1] != filters:\n",
    "        x = layers.Conv2D(filters, kernel_size=1, strides=strides, padding='same')(x)\n",
    "        x = layers.BatchNormalization()(x)\n",
    "    \n",
    "    # Adiciona atalho à saída\n",
    "    y = layers.Add()([x, y])\n",
    "    y = layers.Activation(activation)(y)\n",
    "    return y\n",
    "\n",
    "def ResNet(input_shape, num_classes):\n",
    "    inputs = layers.Input(shape=input_shape)\n",
    "    \n",
    "    # Cmada Convolucional Inicial\n",
    "    x = layers.Conv2D(64, kernel_size=7, strides=2, padding='same')(inputs)\n",
    "    x = layers.BatchNormalization()(x)\n",
    "    x = layers.Activation('relu')(x)\n",
    "    x = layers.MaxPooling2D(pool_size=3, strides=2, padding='same')(x)\n",
    "    \n",
    "    # Pilha de blocos residuais\n",
    "    x = ResidualBlock(x, 64)\n",
    "    x = ResidualBlock(x, 64)\n",
    "    x = ResidualBlock(x, 64)\n",
    "    \n",
    "    x = ResidualBlock(x, 128, strides=2)\n",
    "    x = ResidualBlock(x, 128)\n",
    "    x = ResidualBlock(x, 128)\n",
    "    \n",
    "    x = ResidualBlock(x, 256, strides=2)\n",
    "    x = ResidualBlock(x, 256)\n",
    "    x = ResidualBlock(x, 256)\n",
    "    \n",
    "    x = ResidualBlock(x, 512, strides=2)\n",
    "    x = ResidualBlock(x, 512)\n",
    "    x = ResidualBlock(x, 512)\n",
    "    \n",
    "    # Pooling médio global\n",
    "    x = layers.GlobalAveragePooling2D()(x)\n",
    "    \n",
    "    # Camada de saída\n",
    "    outputs = layers.Dense(num_classes, activation='softmax')(x)\n",
    "    \n",
    "    # CCriação do modelo\n",
    "    model = models.Model(inputs, outputs)\n",
    "    \n",
    "    return model\n",
    "\n",
    "# Tamanho das imagens\n",
    "input_shape = (224, 224, 3)\n",
    "\n",
    "# Número de classes\n",
    "num_classes = 4\n",
    "\n",
    "# Definindo o KFold Cross Validation\n",
    "kfold = KFold(n_splits=5, shuffle=True, random_state=42)\n",
    "\n",
    "# Convertendo listas de caminhos de imagem e labels para numpy arrays\n",
    "train_images_np = np.array(train_images)\n",
    "train_labels_np = np.array(train_labels)\n",
    "\n",
    "for fold, (train_indices, val_indices) in enumerate(kfold.split(train_images_np)):\n",
    "    print(f\"Fold {fold + 1}\")\n",
    "    \n",
    "    # Separando os dados de treinamento e validação para este fold\n",
    "    fold_train_images = train_images_processed[train_indices]\n",
    "    fold_train_labels = train_labels_encoded[train_indices]\n",
    "    fold_val_images = train_images_processed[val_indices]\n",
    "    fold_val_labels = train_labels_encoded[val_indices]\n",
    "    \n",
    "    # Criando uma nova instância do modelo para cada fold\n",
    "    model = ResNet(input_shape, num_classes)\n",
    "    \n",
    "    # Compilando o modelo\n",
    "    model.compile(optimizer='adam',\n",
    "                  loss='sparse_categorical_crossentropy',\n",
    "                  metrics=['accuracy'])\n",
    "    \n",
    "    # Treinando o modelo\n",
    "    model.fit(x=train_images_processed, y=train_labels, validation_data=(val_images_processed, val_labels), epochs=10, batch_size=32)"
   ]
  },
  {
   "cell_type": "code",
   "execution_count": 6,
   "metadata": {},
   "outputs": [
    {
     "name": "stdout",
     "output_type": "stream",
     "text": [
      "Fold 4\n",
      "Epoch 1/10\n",
      "\u001b[1m143/143\u001b[0m \u001b[32m━━━━━━━━━━━━━━━━━━━━\u001b[0m\u001b[37m\u001b[0m \u001b[1m536s\u001b[0m 3s/step - accuracy: 0.6156 - loss: 1.3714 - val_accuracy: 0.2546 - val_loss: 803.6547\n",
      "Epoch 2/10\n",
      "\u001b[1m143/143\u001b[0m \u001b[32m━━━━━━━━━━━━━━━━━━━━\u001b[0m\u001b[37m\u001b[0m \u001b[1m490s\u001b[0m 3s/step - accuracy: 0.7523 - loss: 0.6415 - val_accuracy: 0.2546 - val_loss: 10.6181\n",
      "Epoch 3/10\n",
      "\u001b[1m143/143\u001b[0m \u001b[32m━━━━━━━━━━━━━━━━━━━━\u001b[0m\u001b[37m\u001b[0m \u001b[1m487s\u001b[0m 3s/step - accuracy: 0.8047 - loss: 0.5005 - val_accuracy: 0.4444 - val_loss: 2.2601\n",
      "Epoch 4/10\n",
      "\u001b[1m143/143\u001b[0m \u001b[32m━━━━━━━━━━━━━━━━━━━━\u001b[0m\u001b[37m\u001b[0m \u001b[1m486s\u001b[0m 3s/step - accuracy: 0.8311 - loss: 0.4609 - val_accuracy: 0.4654 - val_loss: 1.2994\n",
      "Epoch 5/10\n",
      "\u001b[1m143/143\u001b[0m \u001b[32m━━━━━━━━━━━━━━━━━━━━\u001b[0m\u001b[37m\u001b[0m \u001b[1m489s\u001b[0m 3s/step - accuracy: 0.8616 - loss: 0.3920 - val_accuracy: 0.7393 - val_loss: 0.8343\n",
      "Epoch 6/10\n",
      "\u001b[1m143/143\u001b[0m \u001b[32m━━━━━━━━━━━━━━━━━━━━\u001b[0m\u001b[37m\u001b[0m \u001b[1m489s\u001b[0m 3s/step - accuracy: 0.8848 - loss: 0.3109 - val_accuracy: 0.4523 - val_loss: 3.8460\n",
      "Epoch 7/10\n",
      "\u001b[1m143/143\u001b[0m \u001b[32m━━━━━━━━━━━━━━━━━━━━\u001b[0m\u001b[37m\u001b[0m \u001b[1m489s\u001b[0m 3s/step - accuracy: 0.9050 - loss: 0.2720 - val_accuracy: 0.6282 - val_loss: 1.3991\n",
      "Epoch 8/10\n",
      "\u001b[1m143/143\u001b[0m \u001b[32m━━━━━━━━━━━━━━━━━━━━\u001b[0m\u001b[37m\u001b[0m \u001b[1m491s\u001b[0m 3s/step - accuracy: 0.9075 - loss: 0.2468 - val_accuracy: 0.8626 - val_loss: 0.3802\n",
      "Epoch 9/10\n",
      "\u001b[1m143/143\u001b[0m \u001b[32m━━━━━━━━━━━━━━━━━━━━\u001b[0m\u001b[37m\u001b[0m \u001b[1m493s\u001b[0m 3s/step - accuracy: 0.9261 - loss: 0.2012 - val_accuracy: 0.4969 - val_loss: 2.7516\n",
      "Epoch 10/10\n",
      "\u001b[1m143/143\u001b[0m \u001b[32m━━━━━━━━━━━━━━━━━━━━\u001b[0m\u001b[37m\u001b[0m \u001b[1m497s\u001b[0m 3s/step - accuracy: 0.9408 - loss: 0.1633 - val_accuracy: 0.8688 - val_loss: 0.3557\n"
     ]
    }
   ],
   "source": [
    "def ResidualBlock(x, filters, kernel_size=3, strides=1, activation='relu'):\n",
    "    y = layers.Conv2D(filters, kernel_size=kernel_size, strides=strides, padding='same')(x)\n",
    "    y = layers.BatchNormalization()(y)\n",
    "    y = layers.Activation(activation)(y)\n",
    "    \n",
    "    y = layers.Conv2D(filters, kernel_size=kernel_size, strides=1, padding='same')(y)\n",
    "    y = layers.BatchNormalization()(y)\n",
    "    \n",
    "    if strides != 1 or x.shape[-1] != filters:\n",
    "        x = layers.Conv2D(filters, kernel_size=1, strides=strides, padding='same')(x)\n",
    "        x = layers.BatchNormalization()(x)\n",
    "    \n",
    "    # Adiciona atalho à saída\n",
    "    y = layers.Add()([x, y])\n",
    "    y = layers.Activation(activation)(y)\n",
    "    return y\n",
    "\n",
    "def ResNet(input_shape, num_classes):\n",
    "    inputs = layers.Input(shape=input_shape)\n",
    "    \n",
    "    # Camada convolucional inicial\n",
    "    x = layers.Conv2D(64, kernel_size=7, strides=2, padding='same')(inputs)\n",
    "    x = layers.BatchNormalization()(x)\n",
    "    x = layers.Activation('relu')(x)\n",
    "    x = layers.MaxPooling2D(pool_size=3, strides=2, padding='same')(x)\n",
    "    \n",
    "    # Pilha de blocos residuais\n",
    "    x = ResidualBlock(x, 64)\n",
    "    x = ResidualBlock(x, 64)\n",
    "    x = ResidualBlock(x, 64)\n",
    "    \n",
    "    x = ResidualBlock(x, 128, strides=2)\n",
    "    x = ResidualBlock(x, 128)\n",
    "    x = ResidualBlock(x, 128)\n",
    "    \n",
    "    x = ResidualBlock(x, 256, strides=2)\n",
    "    x = ResidualBlock(x, 256)\n",
    "    x = ResidualBlock(x, 256)\n",
    "    \n",
    "    x = ResidualBlock(x, 512, strides=2)\n",
    "    x = ResidualBlock(x, 512)\n",
    "    x = ResidualBlock(x, 512)\n",
    "    \n",
    "    # Pooling médio global\n",
    "    x = layers.GlobalAveragePooling2D()(x)\n",
    "    \n",
    "    # Camada de saída\n",
    "    outputs = layers.Dense(num_classes, activation='softmax')(x)\n",
    "    \n",
    "    # Criação do modelo\n",
    "    model = models.Model(inputs, outputs)\n",
    "    \n",
    "    return model\n",
    "\n",
    "# Tamanho das imagens\n",
    "input_shape = (224, 224, 3)\n",
    "\n",
    "# Número de classes\n",
    "num_classes = 4\n",
    "\n",
    "# Definindo o KFold Cross Validation\n",
    "kfold = KFold(n_splits=5, shuffle=True, random_state=42)\n",
    "\n",
    "# Convertendo listas de caminhos de imagem e labels para numpy arrays\n",
    "train_images_np = np.array(train_images)\n",
    "train_labels_np = np.array(train_labels)\n",
    "\n",
    "chosen_fold = 4\n",
    "\n",
    "for fold, (train_indices, val_indices) in enumerate(kfold.split(train_images_np)):\n",
    "    if fold == chosen_fold:\n",
    "        print(f\"Fold {fold}\")\n",
    "        \n",
    "        # Separando os dados de treinamento e validação para este fold\n",
    "        fold_train_images = train_images_processed[train_indices]\n",
    "        fold_train_labels = train_labels_encoded[train_indices]\n",
    "        fold_val_images = train_images_processed[val_indices]\n",
    "        fold_val_labels = train_labels_encoded[val_indices]\n",
    "        \n",
    "        # Criando uma nova instância do modelo para cada fold\n",
    "        model = ResNet(input_shape, num_classes)\n",
    "        \n",
    "        # Compilando o modelo\n",
    "        model.compile(optimizer='adam',\n",
    "                    loss='sparse_categorical_crossentropy',\n",
    "                    metrics=['accuracy'])\n",
    "        \n",
    "        # Treinando o modelo\n",
    "        model.fit(x=train_images_processed, y=train_labels, validation_data=(val_images_processed, val_labels), epochs=10, batch_size=32)"
   ]
  },
  {
   "cell_type": "code",
   "execution_count": 7,
   "metadata": {},
   "outputs": [],
   "source": [
    "# Salvar o modelo treinado\n",
    "model.save('ResNetKfold_model.keras')"
   ]
  },
  {
   "cell_type": "code",
   "execution_count": 19,
   "metadata": {},
   "outputs": [],
   "source": [
    "# Carregar o modelo treinado\n",
    "ResNetKfold_model = load_model(\"ResNetKfold_model.keras\")"
   ]
  },
  {
   "cell_type": "code",
   "execution_count": 20,
   "metadata": {},
   "outputs": [
    {
     "name": "stdout",
     "output_type": "stream",
     "text": [
      "\u001b[1m1/1\u001b[0m \u001b[32m━━━━━━━━━━━━━━━━━━━━\u001b[0m\u001b[37m\u001b[0m \u001b[1m1s\u001b[0m 1s/step\n",
      "Classe Pituary: 3\n"
     ]
    }
   ],
   "source": [
    "# Carregando a imagem que para classificar\n",
    "img_path = r\"C:\\Users\\Willi\\OneDrive\\Área de Trabalho\\tcc\\archive (2)\\Testing\\notumor\\Te-no_0013.jpg\"\n",
    "img = image.load_img(img_path, target_size=(224, 224))\n",
    "img_array = image.img_to_array(img)\n",
    "img_array = img_array / 255.0\n",
    "\n",
    "# Adicionando uma dimensão extra para se adequar ao formato esperado pelo modelo\n",
    "img_array = np.expand_dims(img_array, axis=0)\n",
    "\n",
    "# Fazendo a previsão usando o modelo\n",
    "predictions = ResNetKfold_model.predict(img_array)\n",
    "\n",
    "# Índice com maior probabilidade\n",
    "predicted_class = np.argmax(predictions)\n",
    "\n",
    "# Classe prevista\n",
    "if predicted_class == 0:\n",
    "    print(\"Classe Glioma:\", predicted_class)\n",
    "elif predicted_class == 1:\n",
    "    print(\"Classe Meningioma:\", predicted_class)\n",
    "elif predicted_class == 2:\n",
    "    print(\"Classe Notumor:\", predicted_class)\n",
    "elif predicted_class == 3:\n",
    "    print(\"Classe Pituary:\", predicted_class)\n",
    "else:\n",
    "    print('Classe não encontrada')"
   ]
  },
  {
   "cell_type": "markdown",
   "metadata": {},
   "source": [
    "## Análise da acurácia"
   ]
  },
  {
   "cell_type": "code",
   "execution_count": 22,
   "metadata": {},
   "outputs": [
    {
     "name": "stdout",
     "output_type": "stream",
     "text": [
      "Acurácia: 0.9026045086452178\n",
      "\u001b[1m143/143\u001b[0m \u001b[32m━━━━━━━━━━━━━━━━━━━━\u001b[0m\u001b[37m\u001b[0m \u001b[1m151s\u001b[0m 1s/step\n"
     ]
    }
   ],
   "source": [
    "# Calcular a acurácia\n",
    "accuracy = accuracy_score(train_labels, train_predictions_classes)\n",
    "print(\"Acurácia:\", accuracy)\n",
    "\n",
    "# Carregar e pré-processar imagens de treinamento\n",
    "train_images_processed = load_and_preprocess_images_for_resnet(train_images)\n",
    "\n",
    "# Fazer a previsão do conjunto de validação\n",
    "train_predictions = ResNetKfold_model.predict(train_images_processed)\n",
    "train_predictions_classes = np.argmax(train_predictions, axis=1)"
   ]
  },
  {
   "cell_type": "code",
   "execution_count": 23,
   "metadata": {},
   "outputs": [
    {
     "data": {
      "image/png": "[encoded data removed]",
      "text/plain": [
       "<Figure size 800x600 with 1 Axes>"
      ]
     },
     "metadata": {},
     "output_type": "display_data"
    }
   ],
   "source": [
    "# Matriz de confusão\n",
    "conf_matrix = confusion_matrix(train_labels, train_predictions_classes)\n",
    "\n",
    "# Exibir a matriz de confusão\n",
    "plt.figure(figsize=(8, 6))\n",
    "sns.heatmap(conf_matrix, annot=True, fmt='g', cmap='Blues', cbar=False)\n",
    "plt.xlabel('Predicted labels')\n",
    "plt.ylabel('True labels')\n",
    "plt.title('Confusion Matrix (Training)')\n",
    "plt.show()"
   ]
  },
  {
   "cell_type": "code",
   "execution_count": 24,
   "metadata": {},
   "outputs": [
    {
     "name": "stdout",
     "output_type": "stream",
     "text": [
      "Relatório de Classificação:\n",
      "              precision    recall  f1-score   support\n",
      "\n",
      "      glioma       0.80      0.94      0.87      1033\n",
      "  meningioma       0.88      0.76      0.82      1074\n",
      "     notumor       0.97      0.94      0.96      1304\n",
      "   pituitary       0.95      0.96      0.95      1158\n",
      "\n",
      "    accuracy                           0.90      4569\n",
      "   macro avg       0.90      0.90      0.90      4569\n",
      "weighted avg       0.91      0.90      0.90      4569\n",
      "\n"
     ]
    }
   ],
   "source": [
    "# Precisão, recall e F1-score\n",
    "report = classification_report(train_labels, train_predictions_classes, target_names=label_encoder.classes_)\n",
    "print(\"Relatório de Classificação:\")\n",
    "print(report)"
   ]
  }
 ],
 "metadata": {
  "kernelspec": {
   "display_name": "Python 3",
   "language": "python",
   "name": "python3"
  },
  "language_info": {
   "codemirror_mode": {
    "name": "ipython",
    "version": 3
   },
   "file_extension": ".py",
   "mimetype": "text/x-python",
   "name": "python",
   "nbconvert_exporter": "python",
   "pygments_lexer": "ipython3",
   "version": "3.12.2"
  }
 },
 "nbformat": 4,
 "nbformat_minor": 2
}
